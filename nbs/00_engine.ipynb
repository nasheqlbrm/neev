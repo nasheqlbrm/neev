{
 "cells": [
  {
   "cell_type": "markdown",
   "metadata": {},
   "source": [
    "# engine\n",
    "\n",
    "> A scalar valued Autograd engine"
   ]
  },
  {
   "cell_type": "code",
   "execution_count": null,
   "metadata": {},
   "outputs": [],
   "source": [
    "%load_ext autoreload\n",
    "%autoreload 2"
   ]
  },
  {
   "cell_type": "code",
   "execution_count": null,
   "metadata": {},
   "outputs": [],
   "source": [
    "#| default_exp engine"
   ]
  },
  {
   "cell_type": "code",
   "execution_count": null,
   "metadata": {},
   "outputs": [],
   "source": [
    "#| hide\n",
    "#| export\n",
    "import math\n",
    "import numpy as np\n",
    "import matplotlib.pyplot as plt"
   ]
  },
  {
   "cell_type": "code",
   "execution_count": null,
   "metadata": {},
   "outputs": [],
   "source": [
    "#| hide\n",
    "from nbdev.showdoc import *"
   ]
  },
  {
   "cell_type": "code",
   "execution_count": null,
   "metadata": {},
   "outputs": [],
   "source": [
    "%matplotlib inline"
   ]
  },
  {
   "cell_type": "code",
   "execution_count": null,
   "metadata": {},
   "outputs": [],
   "source": [
    "#| hide\n",
    "class Value:\n",
    "    '''stores a single scalar value and its gradient'''\n",
    "    def __init__(self, \n",
    "                 data,# a scalar value\n",
    "                 _children=(),# The children of this value\n",
    "                 _op='',# The operation that created this value\n",
    "                 label=''):\n",
    "        self.data, self._prev, self._op = data, set(_children), _op\n",
    "        self.label = label \n",
    "        self.grad = 0 # derivative of the Loss with respect to this value\n",
    "        \n",
    "    def __add__(self, other):\n",
    "        out = Value(self.data + other.data, (self,other), '+')\n",
    "        return out\n",
    "    \n",
    "    def __mul__(self, other):\n",
    "        out = Value(self.data * other.data, (self,other),'*')\n",
    "        return out\n",
    "    \n",
    "    def __repr__(self):\n",
    "        return f'Value(data={self.data})'"
   ]
  },
  {
   "cell_type": "code",
   "execution_count": null,
   "metadata": {},
   "outputs": [
    {
     "data": {
      "text/plain": [
       "Value(data=2.0)"
      ]
     },
     "execution_count": null,
     "metadata": {},
     "output_type": "execute_result"
    }
   ],
   "source": [
    "#|hide\n",
    "a = Value(2., label='a')\n",
    "a"
   ]
  },
  {
   "cell_type": "code",
   "execution_count": null,
   "metadata": {},
   "outputs": [
    {
     "data": {
      "text/plain": [
       "Value(data=-1.0)"
      ]
     },
     "execution_count": null,
     "metadata": {},
     "output_type": "execute_result"
    }
   ],
   "source": [
    "#|hide\n",
    "b = Value(-3, label='b')\n",
    "a+b"
   ]
  },
  {
   "cell_type": "code",
   "execution_count": null,
   "metadata": {},
   "outputs": [
    {
     "data": {
      "text/plain": [
       "Value(data=4.0)"
      ]
     },
     "execution_count": null,
     "metadata": {},
     "output_type": "execute_result"
    }
   ],
   "source": [
    "#|hide\n",
    "c = Value(10., label='c')\n",
    "e = a*b; e.label = 'e'\n",
    "d = e + c; d.label = 'd'\n",
    "d"
   ]
  },
  {
   "cell_type": "code",
   "execution_count": null,
   "metadata": {},
   "outputs": [
    {
     "data": {
      "text/plain": [
       "{Value(data=-6.0), Value(data=10.0)}"
      ]
     },
     "execution_count": null,
     "metadata": {},
     "output_type": "execute_result"
    }
   ],
   "source": [
    "#|hide\n",
    "d._prev"
   ]
  },
  {
   "cell_type": "code",
   "execution_count": null,
   "metadata": {},
   "outputs": [
    {
     "data": {
      "text/plain": [
       "'+'"
      ]
     },
     "execution_count": null,
     "metadata": {},
     "output_type": "execute_result"
    }
   ],
   "source": [
    "#|hide\n",
    "d._op"
   ]
  },
  {
   "cell_type": "code",
   "execution_count": null,
   "metadata": {},
   "outputs": [
    {
     "data": {
      "text/plain": [
       "Value(data=-8.0)"
      ]
     },
     "execution_count": null,
     "metadata": {},
     "output_type": "execute_result"
    }
   ],
   "source": [
    "#|hide\n",
    "f = Value(-2.); f.label='f'\n",
    "L = d*f; L.label = 'L'\n",
    "L"
   ]
  },
  {
   "cell_type": "code",
   "execution_count": null,
   "metadata": {},
   "outputs": [
    {
     "data": {
      "text/plain": [
       "Value(data=-7.286496)"
      ]
     },
     "execution_count": null,
     "metadata": {},
     "output_type": "execute_result"
    }
   ],
   "source": [
    "#|hide\n",
    "\n",
    "# manual gradients\n",
    "L.grad=1\n",
    "f.grad=d.data\n",
    "d.grad=f.data\n",
    "c.grad = d.grad\n",
    "e.grad = d.grad\n",
    "b.grad=e.grad * a.data\n",
    "a.grad=e.grad * b.data\n",
    "\n",
    "# nudge leaf nodes that we control\n",
    "a.data += 0.01 * a.grad\n",
    "b.data += 0.01 * b.grad\n",
    "c.data += 0.01 * c.grad\n",
    "f.data += 0.01 * f.grad\n",
    "\n",
    "# forward pass to evaluate L\n",
    "e = a*b\n",
    "d = e + c\n",
    "L = d*f\n",
    "L"
   ]
  },
  {
   "cell_type": "markdown",
   "metadata": {},
   "source": [
    "#|hide\n",
    "\n",
    "Hooray, $L$ increased from $-8$ to $-7.28$!"
   ]
  },
  {
   "cell_type": "code",
   "execution_count": null,
   "metadata": {},
   "outputs": [],
   "source": [
    "#|hide\n",
    "del Value"
   ]
  },
  {
   "cell_type": "code",
   "execution_count": null,
   "metadata": {},
   "outputs": [
    {
     "data": {
      "image/png": "[encoded data removed]",
      "text/plain": [
       "<Figure size 640x480 with 1 Axes>"
      ]
     },
     "metadata": {},
     "output_type": "display_data"
    }
   ],
   "source": [
    "#|hide\n",
    "# A squashing function (a.k.a as an activation function)\n",
    "xs = np.arange(-5,5,0.25)\n",
    "ys = np.tanh(xs)\n",
    "plt.plot(xs, ys); plt.grid()"
   ]
  },
  {
   "cell_type": "markdown",
   "metadata": {},
   "source": [
    "#|hide\n",
    "\n",
    "Now $\\tanh(x) = \\frac{e^{2x}+1}{e^{2x}+1}$ so at this point we will update our `Value` so we can do exponentiation and division."
   ]
  },
  {
   "cell_type": "code",
   "execution_count": null,
   "metadata": {},
   "outputs": [],
   "source": [
    "#|hide\n",
    "# add tanh\n",
    "# Add ability to chain the local gradient to the incoming gradient\n",
    "class Value:\n",
    "    '''stores a single scalar value and its gradient'''\n",
    "    def __init__(self, \n",
    "                 data,# a scalar value\n",
    "                 _children=(),# The children of this value\n",
    "                 _op='',# The operation (+,-,* or tanh) that created this value\n",
    "                 label=''):\n",
    "        self.data, self._prev, self._op = data, set(_children), _op\n",
    "        self.label = label \n",
    "        self.grad = 0 # derivative of the Loss with respect to this value\n",
    "        self._backward = lambda: None #function to chain the incoming gradient with the local gradient\n",
    "        \n",
    "    def __add__(self, other):\n",
    "        out = Value(self.data + other.data, (self,other), '+')\n",
    "        \n",
    "        def _backward():\n",
    "            self.grad = 1.0 * out.grad\n",
    "            other.grad = 1.0 * out.grad\n",
    "        out._backward = _backward\n",
    "        \n",
    "        return out\n",
    "    \n",
    "    def __mul__(self, other):\n",
    "        out = Value(self.data * other.data, (self,other),'*')\n",
    "                \n",
    "        def _backward():\n",
    "            self.grad = other.data * out.grad\n",
    "            other.grad = self.data * out.grad\n",
    "        out._backward = _backward\n",
    "        \n",
    "        return out\n",
    "    \n",
    "    def tanh(self):\n",
    "        x = self.data\n",
    "        t = (math.exp(2*x)-1.)/(math.exp(2*x)+1.)\n",
    "        out = Value(t,(self,),'tanh',)\n",
    "        \n",
    "                \n",
    "        def _backward():\n",
    "            self.grad = (1.0 - t**2) * out.grad\n",
    "        out._backward = _backward\n",
    "        \n",
    "        return out\n",
    "    \n",
    "    def __repr__(self):\n",
    "        return f'Value(data={self.data})'"
   ]
  },
  {
   "cell_type": "markdown",
   "metadata": {},
   "source": [
    "#|hide\n",
    "\n",
    "Back to our motivating example again."
   ]
  },
  {
   "cell_type": "code",
   "execution_count": null,
   "metadata": {},
   "outputs": [],
   "source": [
    "#|hide\n",
    "# inputs x1,x2\n",
    "x1 = Value(2.0, label='x1')\n",
    "x2 = Value(0.0, label='x2')\n",
    "\n",
    "# weights of the neuron\n",
    "w1 = Value(-3.0, label='w1')\n",
    "w2 = Value(1.0, label='w2')\n",
    "\n",
    "# bias of the neuron\n",
    "b = Value(6.881375870195432, label='b')\n",
    "\n",
    "x1w1 = x1*w1; x1w1.label='x1w1'\n",
    "x2w2 = x2*w2; x2w2.label='x2w2'\n",
    "x1w1x2w2 = x1w1 + x2w2; x1w1x2w2.label='x1w1+x2w2'\n",
    "n = x1w1x2w2 + b; n.label='n'\n",
    "\n",
    "o= n.tanh(); o.label='o'"
   ]
  },
  {
   "cell_type": "markdown",
   "metadata": {},
   "source": [
    "#|hide  \n",
    "\n",
    "Backprop pass 2"
   ]
  },
  {
   "cell_type": "code",
   "execution_count": null,
   "metadata": {},
   "outputs": [],
   "source": [
    "#|hide\n",
    "o.grad = 1.0 #initialize otherwise all gradients will be stuck at zero\n",
    "o._backward();\n",
    "n._backward();\n",
    "# view_dot(o)"
   ]
  },
  {
   "cell_type": "code",
   "execution_count": null,
   "metadata": {},
   "outputs": [],
   "source": [
    "#|hide\n",
    "x1w1x2w2._backward();\n",
    "b._backward();#Not needed since this is a leaf node and will have a _backward that is lambda: None\n",
    "# view_dot(o)"
   ]
  },
  {
   "cell_type": "code",
   "execution_count": null,
   "metadata": {},
   "outputs": [],
   "source": [
    "#|hide\n",
    "x1w1._backward();\n",
    "w1._backward();x1._backward();\n",
    "# view_dot(o)"
   ]
  },
  {
   "cell_type": "code",
   "execution_count": null,
   "metadata": {},
   "outputs": [],
   "source": [
    "#|hide\n",
    "x2w2._backward();\n",
    "w2._backward();x2._backward();"
   ]
  },
  {
   "cell_type": "code",
   "execution_count": null,
   "metadata": {},
   "outputs": [],
   "source": [
    "#|hide\n",
    "# view_dot(o)"
   ]
  },
  {
   "cell_type": "markdown",
   "metadata": {},
   "source": [
    "#|hide\n",
    "Now let's automate calling the \\_backward in the correct order. For this we will use topological sorting which involves laying out the nodes of a graph such that all the edges only go in one direction."
   ]
  },
  {
   "cell_type": "code",
   "execution_count": null,
   "metadata": {},
   "outputs": [
    {
     "data": {
      "text/plain": [
       "[Value(data=6.881375870195432),\n",
       " Value(data=0.0),\n",
       " Value(data=1.0),\n",
       " Value(data=0.0),\n",
       " Value(data=-3.0),\n",
       " Value(data=2.0),\n",
       " Value(data=-6.0),\n",
       " Value(data=-6.0),\n",
       " Value(data=0.8813758701954324),\n",
       " Value(data=0.7071079227726492)]"
      ]
     },
     "execution_count": null,
     "metadata": {},
     "output_type": "execute_result"
    }
   ],
   "source": [
    "#|hide\n",
    "topo = []\n",
    "visited = set()\n",
    "def build_topo(v):\n",
    "    if v not in visited:\n",
    "        visited.add(v) \n",
    "        for child in v._prev:\n",
    "            build_topo(child)\n",
    "        topo.append(v) \n",
    "build_topo(o)\n",
    "topo"
   ]
  },
  {
   "cell_type": "code",
   "execution_count": null,
   "metadata": {},
   "outputs": [
    {
     "data": {
      "text/plain": [
       "['b', 'x2', 'w2', 'x2w2', 'w1', 'x1', 'x1w1', 'x1w1+x2w2', 'n', 'o']"
      ]
     },
     "execution_count": null,
     "metadata": {},
     "output_type": "execute_result"
    }
   ],
   "source": [
    "#|hide\n",
    "[v.label for v in topo]"
   ]
  },
  {
   "cell_type": "markdown",
   "metadata": {},
   "source": [
    "#|hide\n",
    "Let's recreate the network."
   ]
  },
  {
   "cell_type": "code",
   "execution_count": null,
   "metadata": {},
   "outputs": [],
   "source": [
    "#|hide\n",
    "# inputs x1,x2\n",
    "x1 = Value(2.0, label='x1')\n",
    "x2 = Value(0.0, label='x2')\n",
    "\n",
    "# weights of the neuron\n",
    "w1 = Value(-3.0, label='w1')\n",
    "w2 = Value(1.0, label='w2')\n",
    "\n",
    "# bias of the neuron\n",
    "b = Value(6.881375870195432, label='b')\n",
    "\n",
    "x1w1 = x1*w1; x1w1.label='x1w1'\n",
    "x2w2 = x2*w2; x2w2.label='x2w2'\n",
    "x1w1x2w2 = x1w1 + x2w2; x1w1x2w2.label='x1w1+x2w2'\n",
    "n = x1w1x2w2 + b; n.label='n'\n",
    "\n",
    "o= n.tanh(); o.label='o'"
   ]
  },
  {
   "cell_type": "code",
   "execution_count": null,
   "metadata": {},
   "outputs": [],
   "source": [
    "#|hide\n",
    "o.grad = 1.0\n",
    "\n",
    "for node in reversed(topo): \n",
    "    node._backward()"
   ]
  },
  {
   "cell_type": "code",
   "execution_count": null,
   "metadata": {},
   "outputs": [],
   "source": [
    "#|hide\n",
    "del Value"
   ]
  },
  {
   "cell_type": "code",
   "execution_count": null,
   "metadata": {},
   "outputs": [],
   "source": [
    "#|hide\n",
    "# Add ability to call backward in an automated fashion\n",
    "class Value:\n",
    "    '''stores a single scalar value and its gradient'''\n",
    "    def __init__(self, \n",
    "                 data,# a scalar value\n",
    "                 _children=(),# The children of this value\n",
    "                 _op='',# The operation (+,-,* or tanh) that created this value\n",
    "                 label=''):\n",
    "        self.data, self._prev, self._op = data, set(_children), _op\n",
    "        self.label = label \n",
    "        self.grad = 0 # derivative of the Loss with respect to this value\n",
    "        self._backward = lambda: None #function to chain the incoming gradient with the local gradient\n",
    "        \n",
    "    def __add__(self, other):\n",
    "        out = Value(self.data + other.data, (self,other), '+')\n",
    "        \n",
    "        def _backward():\n",
    "            self.grad = 1.0 * out.grad\n",
    "            other.grad = 1.0 * out.grad\n",
    "        out._backward = _backward\n",
    "        \n",
    "        return out\n",
    "    \n",
    "    def __mul__(self, other):\n",
    "        out = Value(self.data * other.data, (self,other),'*')\n",
    "                \n",
    "        def _backward():\n",
    "            self.grad = other.data * out.grad\n",
    "            other.grad = self.data * out.grad\n",
    "        out._backward = _backward\n",
    "        \n",
    "        return out\n",
    "    \n",
    "    def tanh(self):\n",
    "        x = self.data\n",
    "        t = (math.exp(2*x)-1.)/(math.exp(2*x)+1.)\n",
    "        out = Value(t,(self,),'tanh',)\n",
    "        \n",
    "                \n",
    "        def _backward():\n",
    "            self.grad = (1.0 - t**2) * out.grad\n",
    "        out._backward = _backward\n",
    "        \n",
    "        return out\n",
    "    \n",
    "    def backward(self):\n",
    "        topo = []\n",
    "        visited = set()\n",
    "        def build_topo(v):\n",
    "            if v not in visited:\n",
    "                visited.add(v) \n",
    "                for child in v._prev:\n",
    "                    build_topo(child)\n",
    "                topo.append(v)\n",
    "        build_topo(self)\n",
    "        \n",
    "        self.grad = 1.0\n",
    "        for node in reversed(topo): \n",
    "            node._backward()\n",
    "        \n",
    "    \n",
    "    def __repr__(self):\n",
    "        return f'Value(data={self.data})'"
   ]
  },
  {
   "cell_type": "code",
   "execution_count": null,
   "metadata": {},
   "outputs": [],
   "source": [
    "#|hide\n",
    "# inputs x1,x2\n",
    "x1 = Value(2.0, label='x1')\n",
    "x2 = Value(0.0, label='x2')\n",
    "\n",
    "# weights of the neuron\n",
    "w1 = Value(-3.0, label='w1')\n",
    "w2 = Value(1.0, label='w2')\n",
    "\n",
    "# bias of the neuron\n",
    "b = Value(6.881375870195432, label='b')\n",
    "\n",
    "x1w1 = x1*w1; x1w1.label='x1w1'\n",
    "x2w2 = x2*w2; x2w2.label='x2w2'\n",
    "x1w1x2w2 = x1w1 + x2w2; x1w1x2w2.label='x1w1+x2w2'\n",
    "n = x1w1x2w2 + b; n.label='n'\n",
    "\n",
    "o= n.tanh(); o.label='o'"
   ]
  },
  {
   "cell_type": "markdown",
   "metadata": {},
   "source": [
    "#|hide\n",
    "\n",
    "Backward Pass\n",
    "\n",
    "Automatic gradient computation."
   ]
  },
  {
   "cell_type": "code",
   "execution_count": null,
   "metadata": {},
   "outputs": [],
   "source": [
    "#|hide\n",
    "o.backward()"
   ]
  },
  {
   "cell_type": "code",
   "execution_count": null,
   "metadata": {},
   "outputs": [
    {
     "data": {
      "text/plain": [
       "(1.0,\n",
       " 0.49999838555214915,\n",
       " 0.49999838555214915,\n",
       " 0.49999838555214915,\n",
       " 0.49999838555214915,\n",
       " -1.4999951566564476,\n",
       " 0.9999967711042983,\n",
       " 0.49999838555214915,\n",
       " 0.0)"
      ]
     },
     "execution_count": null,
     "metadata": {},
     "output_type": "execute_result"
    }
   ],
   "source": [
    "#|hide\n",
    "o.grad, n.grad, x1w1x2w2.grad, x1w1.grad, x2w2.grad, x1.grad, w1.grad, x2.grad, w2.grad,"
   ]
  },
  {
   "cell_type": "markdown",
   "metadata": {},
   "source": [
    "#|hide\n",
    "\n",
    "We have a bug. This bug shows up anytime a variable shows up more than once.\n",
    "\n",
    "We know that the derivative of $a^2$ with respect to $a$ is $2*a$. We see that the answer from our code is just $a$."
   ]
  },
  {
   "cell_type": "code",
   "execution_count": null,
   "metadata": {},
   "outputs": [],
   "source": [
    "#|hide\n",
    "a = Value(-2., label='a')\n",
    "b = a*a; b.label='b'\n",
    "b.backward()"
   ]
  },
  {
   "cell_type": "code",
   "execution_count": null,
   "metadata": {},
   "outputs": [
    {
     "data": {
      "text/plain": [
       "-2.0"
      ]
     },
     "execution_count": null,
     "metadata": {},
     "output_type": "execute_result"
    }
   ],
   "source": [
    "#|hide\n",
    "a.grad"
   ]
  },
  {
   "cell_type": "markdown",
   "metadata": {},
   "source": [
    "#|hide\n",
    "\n",
    "Another example. Here we see that the last gradient to flow back overrides the other one. \n",
    "\n",
    "We have $\\frac{\\partial f}{\\partial a} = \\frac{\\partial f}{\\partial e}*\\frac{\\partial e}{\\partial a} + \\frac{\\partial f}{\\partial d}*\\frac{\\partial d}{\\partial a} = -6*1+1*3=-3$ and $\\frac{\\partial f}{\\partial b} = \\frac{\\partial f}{\\partial e}*\\frac{\\partial e}{\\partial b} + \\frac{\\partial f}{\\partial d}*\\frac{\\partial d}{\\partial b} = -6*1+1*-2=-8$\n",
    "\n",
    "The way to think here is that any node in the graph needs to multiply its measure of how it influences its local output with the measure of how that local output affects the final loss. If it has multiple outputs then it needs to sum over the previous quantity for each output that it has.\n",
    "\n",
    "So $a$ would say \n",
    "* multiply how I affect $d$ multiply with how $d$ affects $f$\n",
    "* multiply how I affect $e$ with how $e$ affects $f$\n",
    "* sum up the previous two estimates."
   ]
  },
  {
   "cell_type": "code",
   "execution_count": null,
   "metadata": {},
   "outputs": [],
   "source": [
    "#|hide\n",
    "a = Value(-2., label='a')\n",
    "b = Value(3., label='b')\n",
    "d = a*b; d.label='d'\n",
    "e = a+b; e.label='e'\n",
    "f = d*e; f.label='f'"
   ]
  },
  {
   "cell_type": "code",
   "execution_count": null,
   "metadata": {},
   "outputs": [],
   "source": [
    "#|hide\n",
    "f.backward()"
   ]
  },
  {
   "cell_type": "code",
   "execution_count": null,
   "metadata": {},
   "outputs": [
    {
     "data": {
      "text/plain": [
       "3.0"
      ]
     },
     "execution_count": null,
     "metadata": {},
     "output_type": "execute_result"
    }
   ],
   "source": [
    "#|hide\n",
    "# incorrect!\n",
    "a.grad"
   ]
  },
  {
   "cell_type": "code",
   "execution_count": null,
   "metadata": {},
   "outputs": [
    {
     "data": {
      "text/plain": [
       "-2.0"
      ]
     },
     "execution_count": null,
     "metadata": {},
     "output_type": "execute_result"
    }
   ],
   "source": [
    "#|hide\n",
    "# incorrect!\n",
    "b.grad"
   ]
  },
  {
   "cell_type": "markdown",
   "metadata": {},
   "source": [
    "#|hide\n",
    "\n",
    "Also at this point if we run the following:\n",
    "\n",
    "```a = Value(2.);a+1``` or ```a = Value(2.);a*1```\n",
    "\n",
    "an `AttributeError: 'int' object has no attribute 'data'` will be raised. \n",
    "\n",
    "This is because $1$ is a constant and not a value object.\n",
    "\n",
    "Similarly if we run ```a = Value(2.);1+a``` or ```a = Value(2.);1*a```\n",
    "\n",
    "an `TypeError: unsupported operand type(s) for *: 'int' and 'Value'` is raised."
   ]
  },
  {
   "cell_type": "markdown",
   "metadata": {},
   "source": [
    "#|hide\n",
    "\n",
    "So the solution is that in the `Value` class we need to accumulate gradients instead of setting them."
   ]
  },
  {
   "cell_type": "code",
   "execution_count": null,
   "metadata": {},
   "outputs": [],
   "source": [
    "#|hide\n",
    "del Value"
   ]
  },
  {
   "cell_type": "code",
   "execution_count": null,
   "metadata": {},
   "outputs": [],
   "source": [
    "#|export\n",
    "# accumulate gradients\n",
    "# allow adding and multiplying constants\n",
    "# exponentiate, power, divide, subtract\n",
    "class Value:\n",
    "    '''stores a single scalar value and its gradient'''\n",
    "    def __init__(self, \n",
    "                 data,# a scalar value\n",
    "                 _children=(),# The children of this value\n",
    "                 _op='',# The operation (+,-,* or tanh) that created this value\n",
    "                 label=''):\n",
    "        self.data, self._prev, self._op = data, set(_children), _op\n",
    "        self.label = label \n",
    "        self.grad = 0 # derivative of the Loss with respect to this value\n",
    "        self._backward = lambda: None #function to chain the incoming gradient with the local gradient\n",
    "        \n",
    "    def __add__(self, other):\n",
    "        other = other if isinstance(other, Value) else Value(other)\n",
    "        out = Value(self.data + other.data, (self,other), '+')\n",
    "        \n",
    "        def _backward():\n",
    "            self.grad += 1.0 * out.grad\n",
    "            other.grad += 1.0 * out.grad\n",
    "        out._backward = _backward\n",
    "        \n",
    "        return out\n",
    "    \n",
    "    def __radd__(self, other): #if Python cannot do other + self\n",
    "        return self + other\n",
    "    \n",
    "    def __mul__(self, other):\n",
    "        other = other if isinstance(other, Value) else Value(other)\n",
    "        out = Value(self.data * other.data, (self,other),'*')\n",
    "                \n",
    "        def _backward():\n",
    "            self.grad += other.data * out.grad\n",
    "            other.grad += self.data * out.grad\n",
    "        out._backward = _backward\n",
    "        \n",
    "        return out\n",
    "    \n",
    "    def __pow__(self,other): # self^{other}\n",
    "        assert isinstance(other, (int,float)), \"only support int/float powers for now\" \n",
    "        t = self.data ** other \n",
    "        out = Value(t, (self,),f'**{other}')\n",
    "        \n",
    "        def _backward():\n",
    "            self.grad += (other * ( self.data ** (other-1) )) * out.grad\n",
    "        out._backward = _backward\n",
    "                \n",
    "        return out\n",
    "            \n",
    "    def __rmul__(self, other): #if Python cannot do other times self\n",
    "        return self * other\n",
    "    \n",
    "    def __truediv__(self, other): #self/other\n",
    "        return self * (other**-1)\n",
    "    \n",
    "    def __neg__(self): #-self\n",
    "        return self * -1\n",
    "    \n",
    "    def __sub__(self, other):\n",
    "        return self + (-other)\n",
    "    \n",
    "    def tanh(self):\n",
    "        x = self.data\n",
    "        t = (math.exp(2*x)-1.)/(math.exp(2*x)+1.)\n",
    "        out = Value(t,(self,),'tanh',)\n",
    "              \n",
    "        def _backward():\n",
    "            self.grad += (1.0 - t**2) * out.grad\n",
    "        out._backward = _backward\n",
    "        \n",
    "        return out\n",
    "    \n",
    "    def exp(self):\n",
    "        x = self.data\n",
    "        t = math.exp(x)\n",
    "        out = Value(t,(self,),'exp',)\n",
    "        \n",
    "        def _backward():\n",
    "            self.grad += t * out.grad\n",
    "        out._backward = _backward\n",
    "        \n",
    "        return out\n",
    "    \n",
    "    def backward(self):\n",
    "        topo = []\n",
    "        visited = set()\n",
    "        def build_topo(v):\n",
    "            if v not in visited:\n",
    "                visited.add(v) \n",
    "                for child in v._prev:\n",
    "                    build_topo(child)\n",
    "                topo.append(v)\n",
    "        build_topo(self)\n",
    "        \n",
    "        self.grad = 1.0\n",
    "        for node in reversed(topo): \n",
    "            node._backward()\n",
    "        \n",
    "    \n",
    "    def __repr__(self):\n",
    "        return f'Value(data={self.data})'"
   ]
  },
  {
   "cell_type": "code",
   "execution_count": null,
   "metadata": {},
   "outputs": [],
   "source": [
    "a = Value(3., label='a')\n",
    "b = a+a; b.label='b'\n",
    "\n",
    "b.backward()\n",
    "\n",
    "assert a.grad == 2 "
   ]
  },
  {
   "cell_type": "code",
   "execution_count": null,
   "metadata": {},
   "outputs": [
    {
     "data": {
      "text/plain": [
       "(-3.0, -8.0)"
      ]
     },
     "execution_count": null,
     "metadata": {},
     "output_type": "execute_result"
    }
   ],
   "source": [
    "a = Value(-2., label='a')\n",
    "b = Value(3., label='b')\n",
    "d = a*b; d.label='d'\n",
    "e = a+b; e.label='e'\n",
    "f = d*e; f.label='f'\n",
    "\n",
    "f.backward()\n",
    "\n",
    "a.grad, b.grad"
   ]
  },
  {
   "cell_type": "code",
   "execution_count": null,
   "metadata": {},
   "outputs": [
    {
     "data": {
      "text/plain": [
       "Value(data=3.0)"
      ]
     },
     "execution_count": null,
     "metadata": {},
     "output_type": "execute_result"
    }
   ],
   "source": [
    "a = Value(2.)\n",
    "a+1"
   ]
  },
  {
   "cell_type": "code",
   "execution_count": null,
   "metadata": {},
   "outputs": [
    {
     "data": {
      "text/plain": [
       "Value(data=2.0)"
      ]
     },
     "execution_count": null,
     "metadata": {},
     "output_type": "execute_result"
    }
   ],
   "source": [
    "#|hide\n",
    "a = Value(2.)\n",
    "1*a"
   ]
  },
  {
   "cell_type": "code",
   "execution_count": null,
   "metadata": {},
   "outputs": [
    {
     "data": {
      "text/plain": [
       "Value(data=2.718281828459045)"
      ]
     },
     "execution_count": null,
     "metadata": {},
     "output_type": "execute_result"
    }
   ],
   "source": [
    "#|hide\n",
    "a = Value(1.)\n",
    "a.exp()"
   ]
  },
  {
   "cell_type": "code",
   "execution_count": null,
   "metadata": {},
   "outputs": [
    {
     "data": {
      "text/plain": [
       "Value(data=0.5)"
      ]
     },
     "execution_count": null,
     "metadata": {},
     "output_type": "execute_result"
    }
   ],
   "source": [
    "#|hide\n",
    "a = Value(2.)\n",
    "b = Value(4.)\n",
    "a/b"
   ]
  },
  {
   "cell_type": "code",
   "execution_count": null,
   "metadata": {},
   "outputs": [
    {
     "data": {
      "text/plain": [
       "Value(data=2.0)"
      ]
     },
     "execution_count": null,
     "metadata": {},
     "output_type": "execute_result"
    }
   ],
   "source": [
    "#|hide\n",
    "b = Value(4.)\n",
    "b**(.5)"
   ]
  },
  {
   "cell_type": "code",
   "execution_count": null,
   "metadata": {},
   "outputs": [
    {
     "data": {
      "text/plain": [
       "Value(data=-2.0)"
      ]
     },
     "execution_count": null,
     "metadata": {},
     "output_type": "execute_result"
    }
   ],
   "source": [
    "#|hide\n",
    "a = Value(2.)\n",
    "b = Value(4.)\n",
    "a-b"
   ]
  },
  {
   "cell_type": "code",
   "execution_count": null,
   "metadata": {},
   "outputs": [
    {
     "data": {
      "text/plain": [
       "Value(data=6.0)"
      ]
     },
     "execution_count": null,
     "metadata": {},
     "output_type": "execute_result"
    }
   ],
   "source": [
    "#|hide\n",
    "a = Value(2.)\n",
    "b = Value(4.)\n",
    "a+b"
   ]
  },
  {
   "cell_type": "code",
   "execution_count": null,
   "metadata": {},
   "outputs": [],
   "source": [
    "#|hide\n",
    "del Value"
   ]
  },
  {
   "cell_type": "code",
   "execution_count": null,
   "metadata": {},
   "outputs": [],
   "source": [
    "#| hide\n",
    "import nbdev; nbdev.nbdev_export()"
   ]
  }
 ],
 "metadata": {
  "kernelspec": {
   "display_name": "python3",
   "language": "python",
   "name": "python3"
  }
 },
 "nbformat": 4,
 "nbformat_minor": 4
}
