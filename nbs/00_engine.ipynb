{
 "cells": [
  {
   "cell_type": "markdown",
   "metadata": {},
   "source": [
    "# engine\n",
    "\n",
    "> Fill in a module description here"
   ]
  },
  {
   "cell_type": "code",
   "execution_count": null,
   "metadata": {},
   "outputs": [],
   "source": [
    "%load_ext autoreload\n",
    "%autoreload 2"
   ]
  },
  {
   "cell_type": "code",
   "execution_count": null,
   "metadata": {},
   "outputs": [],
   "source": [
    "#| default_exp engine"
   ]
  },
  {
   "cell_type": "code",
   "execution_count": null,
   "metadata": {},
   "outputs": [],
   "source": [
    "#| hide\n",
    "#| export\n",
    "import math\n",
    "import numpy as np\n",
    "import matplotlib.pyplot as plt"
   ]
  },
  {
   "cell_type": "code",
   "execution_count": null,
   "metadata": {},
   "outputs": [],
   "source": [
    "#| hide\n",
    "from nbdev.showdoc import *"
   ]
  },
  {
   "cell_type": "code",
   "execution_count": null,
   "metadata": {},
   "outputs": [],
   "source": [
    "%matplotlib inline"
   ]
  },
  {
   "cell_type": "code",
   "execution_count": null,
   "metadata": {},
   "outputs": [],
   "source": [
    "#| hide\n",
    "def f(x):\n",
    "    return 3*x**2 - 4*x + 5"
   ]
  },
  {
   "cell_type": "code",
   "execution_count": null,
   "metadata": {},
   "outputs": [
    {
     "data": {
      "text/plain": [
       "20.0"
      ]
     },
     "execution_count": null,
     "metadata": {},
     "output_type": "execute_result"
    }
   ],
   "source": [
    "#| hide\n",
    "f(3.0)"
   ]
  },
  {
   "cell_type": "code",
   "execution_count": null,
   "metadata": {},
   "outputs": [
    {
     "data": {
      "text/plain": [
       "[<matplotlib.lines.Line2D>]"
      ]
     },
     "execution_count": null,
     "metadata": {},
     "output_type": "execute_result"
    },
    {
     "data": {
      "image/png": "[encoded data removed]",
      "text/plain": [
       "<Figure size 640x480 with 1 Axes>"
      ]
     },
     "metadata": {},
     "output_type": "display_data"
    }
   ],
   "source": [
    "#| hide\n",
    "xs = np.arange(-5,5,0.25)\n",
    "ys = f(xs)\n",
    "plt.plot(xs, ys)"
   ]
  },
  {
   "cell_type": "markdown",
   "metadata": {},
   "source": [
    "#|hide\n",
    "## Numerical evaluation of the derivative\n",
    "\n",
    "If we nudge the input from $3$ to slightly above say $3+h$ (for some $h>0$) how do we expect the function above to respond? Well we expect it to go up. The $\\hbox{slope}=\\frac{f(x+h)-f(x)}{h}$ measures the rate at which the function responds per unit increment of the input. "
   ]
  },
  {
   "cell_type": "code",
   "execution_count": null,
   "metadata": {},
   "outputs": [
    {
     "data": {
      "text/plain": [
       "14.00000009255109"
      ]
     },
     "execution_count": null,
     "metadata": {},
     "output_type": "execute_result"
    }
   ],
   "source": [
    "#| hide\n",
    "h = 0.00000001\n",
    "x = 3.\n",
    "( f(x+h) - f(x) )/h"
   ]
  },
  {
   "cell_type": "markdown",
   "metadata": {},
   "source": [
    "#| hide\n",
    "\n",
    "### How small of an h?\n",
    "The mathematical definition of derivative requires us to take h to zero. However since we are working with floating point arithmetic and the represenation of these numbers are finite so making h too small will get us into trouble."
   ]
  },
  {
   "cell_type": "code",
   "execution_count": null,
   "metadata": {},
   "outputs": [
    {
     "data": {
      "text/plain": [
       "{0.001: 14.00300000000243,\n",
       " 0.0001: 14.000300000063248,\n",
       " 1e-08: 14.00000009255109,\n",
       " 1e-16: 0.0}"
      ]
     },
     "execution_count": null,
     "metadata": {},
     "output_type": "execute_result"
    }
   ],
   "source": [
    "#| hide\n",
    "{h : ( f(x+h) - f(x) )/h for h in [0.001, 0.0001, 0.00000001, 0.0000000000000001]}"
   ]
  },
  {
   "cell_type": "code",
   "execution_count": null,
   "metadata": {},
   "outputs": [
    {
     "data": {
      "text/plain": [
       "-22.00000039920269"
      ]
     },
     "execution_count": null,
     "metadata": {},
     "output_type": "execute_result"
    }
   ],
   "source": [
    "#| hide\n",
    "# If the slope is negative the function will go down when we nudge the input upward.\n",
    "x = -3.\n",
    "(f(x+h) - f(x))/h"
   ]
  },
  {
   "cell_type": "code",
   "execution_count": null,
   "metadata": {},
   "outputs": [
    {
     "data": {
      "text/plain": [
       "0.0"
      ]
     },
     "execution_count": null,
     "metadata": {},
     "output_type": "execute_result"
    }
   ],
   "source": [
    "#| hide\n",
    "# Is there a point where the function does not respond at all if we were to nudge it?\n",
    "# Why yes, in this case we see that happens at 2/3\n",
    "x = 2/3.\n",
    "(f(x+h) - f(x))/h"
   ]
  },
  {
   "cell_type": "code",
   "execution_count": null,
   "metadata": {},
   "outputs": [
    {
     "name": "stdout",
     "output_type": "stream",
     "text": [
      "4.0\n"
     ]
    }
   ],
   "source": [
    "#| hide\n",
    "# Let's get more complex\n",
    "# We define d to be a function of three scalar inputs a, b and c\n",
    "a, b, c = 2., -3., 10.\n",
    "d = a*b + c\n",
    "print(d)"
   ]
  },
  {
   "cell_type": "code",
   "execution_count": null,
   "metadata": {},
   "outputs": [
    {
     "name": "stdout",
     "output_type": "stream",
     "text": [
      "d1 4.0\n"
     ]
    }
   ],
   "source": [
    "#| hide\n",
    "# Let's look at the derivative of d with respect to a, b and c\n",
    "h = 0.0001\n",
    "a, b, c = 2., -3., 10.\n",
    "\n",
    "d1 = a*b + c\n",
    "\n",
    "print('d1',d1)"
   ]
  },
  {
   "cell_type": "code",
   "execution_count": null,
   "metadata": {},
   "outputs": [],
   "source": [
    "#| hide\n",
    "# If we nudge `a` up will the function go up or down?\n",
    "a += h\n",
    "d2 = a*b + c"
   ]
  },
  {
   "cell_type": "code",
   "execution_count": null,
   "metadata": {},
   "outputs": [
    {
     "name": "stdout",
     "output_type": "stream",
     "text": [
      "d1 4.0\n",
      "d2 3.999699999999999\n"
     ]
    }
   ],
   "source": [
    "#| hide\n",
    "# It will go down.\n",
    "# `a` is slightly higher but it is being multiplied by a negative number\n",
    "# so the product itself is slightly larger negative number than before.\n",
    "# Hence the function will go down.\n",
    "print('d1',d1)\n",
    "print('d2',d2)"
   ]
  },
  {
   "cell_type": "code",
   "execution_count": null,
   "metadata": {},
   "outputs": [
    {
     "name": "stdout",
     "output_type": "stream",
     "text": [
      "slope -3.000000000010772\n"
     ]
    }
   ],
   "source": [
    "#| hide\n",
    "# The above tells us the slope will be a negative number\n",
    "print('slope', (d2-d1)/h)"
   ]
  },
  {
   "cell_type": "code",
   "execution_count": null,
   "metadata": {},
   "outputs": [
    {
     "name": "stdout",
     "output_type": "stream",
     "text": [
      "d1 4.0\n",
      "d2 4.0002\n",
      "slope 2.0000000000042206\n"
     ]
    }
   ],
   "source": [
    "#| hide\n",
    "# If we nudge `b` up will the function go up or down? \n",
    "h = 0.0001\n",
    "a, b, c = 2., -3., 10.\n",
    "\n",
    "d1 = a*b + c\n",
    "b += h\n",
    "d2 = a*b + c\n",
    "print('d1',d1)\n",
    "print('d2',d2)\n",
    "print('slope',(d2-d1)/h)"
   ]
  },
  {
   "cell_type": "code",
   "execution_count": null,
   "metadata": {},
   "outputs": [
    {
     "name": "stdout",
     "output_type": "stream",
     "text": [
      "d1 4.0\n",
      "d2 4.0001\n",
      "slope 0.9999999999976694\n"
     ]
    }
   ],
   "source": [
    "#| hide\n",
    "# Finally, examine the influence of c on the output.\n",
    "# If we nudge `c` up will the function go up or down? \n",
    "h = 0.0001\n",
    "a, b, c = 2., -3., 10.\n",
    "\n",
    "d1 = a*b + c\n",
    "c += h\n",
    "d2 = a*b + c\n",
    "print('d1',d1)\n",
    "print('d2',d2)\n",
    "print('slope',(d2-d1)/h)"
   ]
  },
  {
   "cell_type": "code",
   "execution_count": null,
   "metadata": {},
   "outputs": [],
   "source": [
    "#| export\n",
    "class Value:\n",
    "    '''stores a single scalar value and its gradient'''\n",
    "    def __init__(self, \n",
    "                 data,# a scalar value\n",
    "                 _children=(),# The children of this value\n",
    "                 _op='',# The operation that created this value\n",
    "                 label=''):\n",
    "        self.data, self._prev, self._op = data, set(_children), _op\n",
    "        self.label = label \n",
    "        self.grad = 0 # derivative of the Loss with respect to this value\n",
    "        \n",
    "    def __add__(self, other):\n",
    "        out = Value(self.data + other.data, (self,other), '+')\n",
    "        return out\n",
    "    \n",
    "    def __mul__(self, other):\n",
    "        out = Value(self.data * other.data, (self,other),'*')\n",
    "        return out\n",
    "    \n",
    "    def __repr__(self):\n",
    "        return f'Value(data={self.data})'"
   ]
  },
  {
   "cell_type": "code",
   "execution_count": null,
   "metadata": {},
   "outputs": [
    {
     "data": {
      "text/plain": [
       "Value(data=2.0)"
      ]
     },
     "execution_count": null,
     "metadata": {},
     "output_type": "execute_result"
    }
   ],
   "source": [
    "a = Value(2., label='a')\n",
    "a"
   ]
  },
  {
   "cell_type": "code",
   "execution_count": null,
   "metadata": {},
   "outputs": [
    {
     "data": {
      "text/plain": [
       "Value(data=-1.0)"
      ]
     },
     "execution_count": null,
     "metadata": {},
     "output_type": "execute_result"
    }
   ],
   "source": [
    "b = Value(-3, label='b')\n",
    "a+b"
   ]
  },
  {
   "cell_type": "code",
   "execution_count": null,
   "metadata": {},
   "outputs": [
    {
     "data": {
      "text/plain": [
       "Value(data=4.0)"
      ]
     },
     "execution_count": null,
     "metadata": {},
     "output_type": "execute_result"
    }
   ],
   "source": [
    "c = Value(10., label='c')\n",
    "e = a*b; e.label = 'e'\n",
    "d = e + c; d.label = 'd'\n",
    "d"
   ]
  },
  {
   "cell_type": "code",
   "execution_count": null,
   "metadata": {},
   "outputs": [
    {
     "data": {
      "text/plain": [
       "{Value(data=-6.0), Value(data=10.0)}"
      ]
     },
     "execution_count": null,
     "metadata": {},
     "output_type": "execute_result"
    }
   ],
   "source": [
    "d._prev"
   ]
  },
  {
   "cell_type": "code",
   "execution_count": null,
   "metadata": {},
   "outputs": [
    {
     "data": {
      "text/plain": [
       "'+'"
      ]
     },
     "execution_count": null,
     "metadata": {},
     "output_type": "execute_result"
    }
   ],
   "source": [
    "d._op"
   ]
  },
  {
   "cell_type": "code",
   "execution_count": null,
   "metadata": {},
   "outputs": [
    {
     "data": {
      "text/plain": [
       "Value(data=-8.0)"
      ]
     },
     "execution_count": null,
     "metadata": {},
     "output_type": "execute_result"
    }
   ],
   "source": [
    "f = Value(-2.); f.label='f'\n",
    "L = d*f; L.label = 'L'\n",
    "L"
   ]
  },
  {
   "cell_type": "markdown",
   "metadata": {},
   "source": [
    "#|hide\n",
    "\n",
    "`lol` can be used to check each of the gradients"
   ]
  },
  {
   "cell_type": "code",
   "execution_count": null,
   "metadata": {},
   "outputs": [],
   "source": [
    "#| hide\n",
    "def dL_d(what='L'):\n",
    "    '''nudge the parameter specified in the `what` by a small amount,\n",
    "        compute the gradient numerically and return it.\n",
    "    '''\n",
    "    \n",
    "    if what not in ['a','b','c','d','e','f','L']:\n",
    "        raise Exception\n",
    "        \n",
    "    h_a = 0.0001 if what=='a' else 0\n",
    "    h_b = 0.0001 if what=='b' else 0\n",
    "    h_c = 0.0001 if what=='c' else 0   \n",
    "    h_d = 0.0001 if what=='d' else 0\n",
    "    h_e = 0.0001 if what=='e' else 0\n",
    "    h_f = 0.0001 if what=='f' else 0    \n",
    "    h_L = 0.0001 if what=='L' else 0\n",
    "    \n",
    "    a,b,c = Value(2.,label='a'),Value(-3.,label='b'),Value(10.,label='c')\n",
    "    e = a*b; e.label = 'e'\n",
    "    d = e + c; d.label = 'd'\n",
    "    f = Value(-2.); f.label='f'\n",
    "    L = d*f; L.label = 'L'\n",
    "    L1 = L.data\n",
    "\n",
    "    a,b,c = Value(2.+h_a,label='a'),Value(-3.+h_b,label='b'),Value(10.+h_c,label='c')\n",
    "    e = a*b;e.data += h_e; e.label = 'e'\n",
    "    d = e + c; d.data += h_d; d.label = 'd'\n",
    "    f = Value(-2.);f.data += h_f; f.label='f'\n",
    "    L = d*f; L.label = 'L'\n",
    "    L2 = L.data + h_L\n",
    "    \n",
    "    return ((L2-L1)/h)"
   ]
  },
  {
   "cell_type": "markdown",
   "metadata": {},
   "source": [
    "#|hide\n",
    "\n",
    "* $L = d * f$ what is $\\frac{\\partial L}{\\partial d}$? $f$\n",
    "\n",
    "    From first principles:\n",
    "\n",
    "    $\\frac{\\partial L}{\\partial d} = \\frac{(d+h)*f - d*f}{h} = \\frac{d*f+h*f-d*f}{h} = f$\n",
    "* Similarly $\\frac{\\partial L}{\\partial f} = d$"
   ]
  },
  {
   "cell_type": "code",
   "execution_count": null,
   "metadata": {},
   "outputs": [],
   "source": [
    "#|hide\n",
    "# Manually compute gradients\n",
    "d.grad=f.data\n",
    "f.grad=d.data\n",
    "L.grad=1"
   ]
  },
  {
   "cell_type": "code",
   "execution_count": null,
   "metadata": {},
   "outputs": [
    {
     "data": {
      "text/plain": [
       "(0.9999999999976694, 1)"
      ]
     },
     "execution_count": null,
     "metadata": {},
     "output_type": "execute_result"
    }
   ],
   "source": [
    "#|hide\n",
    "# These are the same up to \"floating point funkiness\"\n",
    "dL_d('L'), L.grad"
   ]
  },
  {
   "cell_type": "code",
   "execution_count": null,
   "metadata": {},
   "outputs": [
    {
     "data": {
      "text/plain": [
       "(-1.9999999999953388, -2.0)"
      ]
     },
     "execution_count": null,
     "metadata": {},
     "output_type": "execute_result"
    }
   ],
   "source": [
    "#|hide\n",
    "dL_d('d'), f.data"
   ]
  },
  {
   "cell_type": "code",
   "execution_count": null,
   "metadata": {},
   "outputs": [
    {
     "data": {
      "text/plain": [
       "(3.9999999999995595, 4.0)"
      ]
     },
     "execution_count": null,
     "metadata": {},
     "output_type": "execute_result"
    }
   ],
   "source": [
    "#|hide\n",
    "dL_d('f'), d.data"
   ]
  },
  {
   "cell_type": "markdown",
   "metadata": {},
   "source": [
    "#|hide\n",
    "\n",
    "Next we derive gradients for the middle layer starting with $\\frac{\\partial L}{\\partial c}$. We need to understand how $L$ responds when $c$ is wiggled. This effect is transmitted through $d$ and recall that we derived earlier how $L$ responds when $d$ is wiggled. So if we can figure out how $c$ impacts $d$ then we can put that together with the information on how $d$ impacts $L$ to determine how $c$ impacts $L$.\n",
    "\n",
    "Per Karpathy, _\"This is crucial, if you understand the gradient of node $c$ then you understand all of backpropagation and all of the training of neural nets.\"_\n",
    "\n",
    "$\\frac{\\partial L}{\\partial c} = \\frac{\\partial d}{\\partial c}*\\frac{\\partial L}{\\partial d}$\n",
    "\n",
    "Since $d = e + c$ we have that $\\frac{\\partial d}{\\partial c} = 1$ (the \"local\" derivative of the sum expression is simple).\n",
    "\n",
    "Or $\\frac{\\partial L}{\\partial c} = 1*\\frac{\\partial L}{\\partial d} = \\frac{\\partial L}{\\partial d}$\n",
    "\n",
    "Similarly, $\\frac{\\partial L}{\\partial e} = \\frac{\\partial L}{\\partial d}$.\n",
    "\n",
    "*So the sum node distributes the incoming gradient as-is to each of it's children.*"
   ]
  },
  {
   "cell_type": "code",
   "execution_count": null,
   "metadata": {},
   "outputs": [
    {
     "data": {
      "text/plain": [
       "(0, -2.0)"
      ]
     },
     "execution_count": null,
     "metadata": {},
     "output_type": "execute_result"
    }
   ],
   "source": [
    "#|hide\n",
    "c.grad, d.grad"
   ]
  },
  {
   "cell_type": "code",
   "execution_count": null,
   "metadata": {},
   "outputs": [],
   "source": [
    "#|hide\n",
    "# Manually compute gradients\n",
    "c.grad = d.grad\n",
    "e.grad = d.grad"
   ]
  },
  {
   "cell_type": "code",
   "execution_count": null,
   "metadata": {},
   "outputs": [
    {
     "data": {
      "text/plain": [
       "(-1.9999999999953388, -2.0)"
      ]
     },
     "execution_count": null,
     "metadata": {},
     "output_type": "execute_result"
    }
   ],
   "source": [
    "#|hide\n",
    "dL_d('c'), d.grad"
   ]
  },
  {
   "cell_type": "code",
   "execution_count": null,
   "metadata": {},
   "outputs": [
    {
     "data": {
      "text/plain": [
       "(-1.9999999999953388, -2.0)"
      ]
     },
     "execution_count": null,
     "metadata": {},
     "output_type": "execute_result"
    }
   ],
   "source": [
    "#|hide\n",
    "dL_d('e'), d.grad"
   ]
  },
  {
   "cell_type": "markdown",
   "metadata": {},
   "source": [
    "#|hide\n",
    "\n",
    "What is $\\frac{\\partial L}{\\partial a}$? \n",
    "\n",
    "It is $\\frac{\\partial e}{\\partial a}*\\frac{\\partial L}{\\partial e} = b*\\frac{\\partial L}{\\partial e} = -3*-2 = 6$"
   ]
  },
  {
   "cell_type": "code",
   "execution_count": null,
   "metadata": {},
   "outputs": [
    {
     "data": {
      "text/plain": [
       "6.0"
      ]
     },
     "execution_count": null,
     "metadata": {},
     "output_type": "execute_result"
    }
   ],
   "source": [
    "#|hide\n",
    "# Manually compute gradients\n",
    "a.grad=e.grad * b.data\n",
    "a.grad"
   ]
  },
  {
   "cell_type": "code",
   "execution_count": null,
   "metadata": {},
   "outputs": [
    {
     "data": {
      "text/plain": [
       "6.000000000021544"
      ]
     },
     "execution_count": null,
     "metadata": {},
     "output_type": "execute_result"
    }
   ],
   "source": [
    "#|hide\n",
    "dL_d('a')"
   ]
  },
  {
   "cell_type": "markdown",
   "metadata": {},
   "source": [
    "#|hide\n",
    "\n",
    "Similarly $\\frac{\\partial L}{\\partial b} = \\frac{\\partial e}{\\partial b}*\\frac{\\partial L}{\\partial e} = a*\\frac{\\partial L}{\\partial e} = 2*-2=-4$"
   ]
  },
  {
   "cell_type": "code",
   "execution_count": null,
   "metadata": {},
   "outputs": [
    {
     "data": {
      "text/plain": [
       "-4.0"
      ]
     },
     "execution_count": null,
     "metadata": {},
     "output_type": "execute_result"
    }
   ],
   "source": [
    "#|hide\n",
    "# Manually compute gradients\n",
    "b.grad=e.grad * a.data\n",
    "b.grad"
   ]
  },
  {
   "cell_type": "code",
   "execution_count": null,
   "metadata": {},
   "outputs": [
    {
     "data": {
      "text/plain": [
       "-4.000000000008441"
      ]
     },
     "execution_count": null,
     "metadata": {},
     "output_type": "execute_result"
    }
   ],
   "source": [
    "#|hide\n",
    "dL_d('b')"
   ]
  },
  {
   "cell_type": "markdown",
   "metadata": {},
   "source": [
    "#|hide\n",
    "\n",
    "At this point we have manually backpropagated through this simple example and verified that they are correct using the `dl_d`."
   ]
  },
  {
   "cell_type": "markdown",
   "metadata": {},
   "source": [
    "#|hide\n",
    "\n",
    "Next let's nudge of the leaf nodes we control to make $L$ increase.\n",
    "\n",
    "How? Well we control the leaf nodes $a,b,c,f$ and we observe that:\n",
    "\n",
    "* If the value of a leaf node that we control is positive and the gradient is positive then nudging the value of such a leaf node up will make the loss go up.\n",
    "    * Nudging such a value by an amount which is $0.01$ times the gradient, will make us go from a positive value to a more positive value (thus nudging the value up) and this will make the loss go up.\n",
    "    * This is the case for $a$ it's value is $2$ and it's gradient is $6$\n",
    "* If the value of a leaf node that we control is positive and the gradient is negative then that means that nudging the value of such a leaf node up will make the loss go down.\n",
    "    * Nudging such a value by an amount which is $0.01$ times the gradient, will make us go from a positive value to a less positive value (thus nudging the value down) and this will make the loss go up.\n",
    "    * This is the case for $c$ it's value is $10$ and it's gradient is $-2$\n",
    "* If the value of a leaf node that we control is negative and the gradient is positive then that nudging the value of such a leaf node up will make the loss go up.\n",
    "    * Nudging such a value by an amount which is $0.01$ times the gradient, will make us go from a negative value to a less negative value (thus nudging the value up) and this will make the loss go up.\n",
    "    * This is the case for $f$ it's value is $-2$ and it's gradient is $4$\n",
    "* If the value of a leaf node that we control is negative and the gradient is negative then that nudging the value of such a leaf node up will make the loss go down.\n",
    "    * Nudging such a value by an amount which is $0.01$ times the gradient, will make us go from a negative value to a more negative value (thus nudging the value down) and this will make the loss go up. \n",
    "    * This is the case for $b$ it's value is $-3$ and it's gradient is $-4$\n",
    "\n",
    "TL;DR\n",
    "\n",
    "In all cases, the strategy to increase the loss is to nudge the value by some small number times the gradient.\n",
    "\n",
    "Conversely to decrease the lose we need to nudge the value by some small number times the negative of the gradient."
   ]
  },
  {
   "cell_type": "code",
   "execution_count": null,
   "metadata": {},
   "outputs": [
    {
     "data": {
      "text/plain": [
       "Value(data=-8.0)"
      ]
     },
     "execution_count": null,
     "metadata": {},
     "output_type": "execute_result"
    }
   ],
   "source": [
    "#|hide\n",
    "\n",
    "# forward pass\n",
    "a,b,c = Value(2.,label='a'),Value(-3.,label='b'),Value(10.,label='c')\n",
    "e = a*b; e.label = 'e'\n",
    "d = e + c; d.label = 'd'\n",
    "f = Value(-2.); f.label='f'\n",
    "L = d*f; L.label = 'L'\n",
    "L"
   ]
  },
  {
   "cell_type": "code",
   "execution_count": null,
   "metadata": {},
   "outputs": [
    {
     "data": {
      "text/plain": [
       "Value(data=-7.286496)"
      ]
     },
     "execution_count": null,
     "metadata": {},
     "output_type": "execute_result"
    }
   ],
   "source": [
    "#|hide\n",
    "\n",
    "# manual gradients\n",
    "L.grad=1\n",
    "f.grad=d.data\n",
    "d.grad=f.data\n",
    "c.grad = d.grad\n",
    "e.grad = d.grad\n",
    "b.grad=e.grad * a.data\n",
    "a.grad=e.grad * b.data\n",
    "\n",
    "# nudge leaf nodes that we control\n",
    "a.data += 0.01 * a.grad\n",
    "b.data += 0.01 * b.grad\n",
    "c.data += 0.01 * c.grad\n",
    "f.data += 0.01 * f.grad\n",
    "\n",
    "# forward pass to evaluate L\n",
    "e = a*b\n",
    "d = e + c\n",
    "L = d*f\n",
    "L"
   ]
  },
  {
   "cell_type": "markdown",
   "metadata": {},
   "source": [
    "#|hide\n",
    "\n",
    "Hooray, $L$ increased from $-8$ to $-7.28$!"
   ]
  },
  {
   "cell_type": "markdown",
   "metadata": {},
   "source": [
    "#|hide\n",
    "\n",
    "Example 2: Backpropogating through a neuron\n",
    "\n",
    "* bias $b$ is the \"innate trigger happiness\" of the neuron"
   ]
  },
  {
   "cell_type": "code",
   "execution_count": null,
   "metadata": {},
   "outputs": [
    {
     "data": {
      "image/png": "[encoded data removed]",
      "text/plain": [
       "<Figure size 640x480 with 1 Axes>"
      ]
     },
     "metadata": {},
     "output_type": "display_data"
    }
   ],
   "source": [
    "#|hide\n",
    "# A squashing function (a.k.a as an activation function)\n",
    "xs = np.arange(-5,5,0.25)\n",
    "ys = np.tanh(xs)\n",
    "plt.plot(xs, ys); plt.grid()"
   ]
  },
  {
   "cell_type": "markdown",
   "metadata": {},
   "source": [
    "#|hide\n",
    "\n",
    "Now $\\tanh(x) = \\frac{e^{2x}+1}{e^{2x}+1}$ so we need to update our `Value` so we can do exponentiation and division."
   ]
  },
  {
   "cell_type": "code",
   "execution_count": null,
   "metadata": {},
   "outputs": [],
   "source": [
    "#|hide\n",
    "# inputs x1,x2\n",
    "x1 = Value(2.0, label='x1')\n",
    "x2 = Value(0.0, label='x2')\n",
    "\n",
    "# weights of the neuron\n",
    "w1 = Value(-3.0, label='w1')\n",
    "w2 = Value(1.0, label='w2')\n",
    "\n",
    "# bias of the neuron\n",
    "b = Value(6.7, label='b')\n",
    "\n",
    "x1w1 = x1*w1; x1w1.label='x1w1'\n",
    "x2w2 = x2*w2; x2w2.label='x2w2'\n",
    "x1w1x2w2 = x1w1 + x2w2; x1w1x2w2.label='x1w1+x2w2'\n",
    "n = x1w1x2w2 + b; n.label='n'\n",
    "\n",
    "# o= n.tanh()"
   ]
  },
  {
   "cell_type": "code",
   "execution_count": null,
   "metadata": {},
   "outputs": [],
   "source": [
    "#| hide\n",
    "import nbdev; nbdev.nbdev_export()"
   ]
  }
 ],
 "metadata": {
  "kernelspec": {
   "display_name": "python3",
   "language": "python",
   "name": "python3"
  }
 },
 "nbformat": 4,
 "nbformat_minor": 4
}
