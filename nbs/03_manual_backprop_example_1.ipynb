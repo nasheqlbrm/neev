{
 "cells": [
  {
   "cell_type": "markdown",
   "metadata": {},
   "source": [
    "# Example 1"
   ]
  },
  {
   "cell_type": "code",
   "execution_count": null,
   "metadata": {},
   "outputs": [],
   "source": [
    "%load_ext autoreload\n",
    "%autoreload 2"
   ]
  },
  {
   "cell_type": "code",
   "execution_count": null,
   "metadata": {},
   "outputs": [],
   "source": [
    "import numpy as np\n",
    "import matplotlib.pyplot as plt"
   ]
  },
  {
   "cell_type": "code",
   "execution_count": null,
   "metadata": {},
   "outputs": [],
   "source": [
    "%matplotlib inline"
   ]
  },
  {
   "cell_type": "markdown",
   "metadata": {},
   "source": [
    "## Numerical evaluation of the derivative\n",
    "\n",
    "If we nudge the input from $3$ to slightly above say $3+h$ (for some $h>0$) how do we expect the function above to respond? Well we expect it to go up. The $\\hbox{slope}=\\frac{f(x+h)-f(x)}{h}$ measures the rate at which the function responds per unit increment of the input. "
   ]
  },
  {
   "cell_type": "code",
   "execution_count": null,
   "metadata": {},
   "outputs": [],
   "source": [
    "def f(x):\n",
    "    return 3*x**2 - 4*x + 5"
   ]
  },
  {
   "cell_type": "code",
   "execution_count": null,
   "metadata": {},
   "outputs": [
    {
     "data": {
      "text/plain": [
       "14.00000009255109"
      ]
     },
     "execution_count": null,
     "metadata": {},
     "output_type": "execute_result"
    }
   ],
   "source": [
    "h = 0.00000001\n",
    "x = 3.\n",
    "( f(x+h) - f(x) )/h"
   ]
  },
  {
   "cell_type": "markdown",
   "metadata": {},
   "source": [
    "### How small of an h?\n",
    "The mathematical definition of derivative requires us to take h to zero. However since we are working with floating point arithmetic and the represenation of these numbers are finite so making h too small will get us into trouble."
   ]
  },
  {
   "cell_type": "code",
   "execution_count": null,
   "metadata": {},
   "outputs": [
    {
     "data": {
      "text/plain": [
       "{0.001: 14.00300000000243,\n",
       " 0.0001: 14.000300000063248,\n",
       " 1e-08: 14.00000009255109,\n",
       " 1e-16: 0.0}"
      ]
     },
     "execution_count": null,
     "metadata": {},
     "output_type": "execute_result"
    }
   ],
   "source": [
    "{h : ( f(x+h) - f(x) )/h for h in [0.001, 0.0001, 0.00000001, 0.0000000000000001]}"
   ]
  },
  {
   "cell_type": "code",
   "execution_count": null,
   "metadata": {},
   "outputs": [
    {
     "data": {
      "text/plain": [
       "-22.00000039920269"
      ]
     },
     "execution_count": null,
     "metadata": {},
     "output_type": "execute_result"
    }
   ],
   "source": [
    "# If the slope is negative the function will go down when we nudge the input upward.\n",
    "x = -3.\n",
    "(f(x+h) - f(x))/h"
   ]
  },
  {
   "cell_type": "markdown",
   "metadata": {},
   "source": [
    "Is there a point where the function does not respond at all if we were to nudge it?\n",
    "Why yes, in this case we see that happens at 2/3"
   ]
  },
  {
   "cell_type": "code",
   "execution_count": null,
   "metadata": {},
   "outputs": [
    {
     "data": {
      "text/plain": [
       "0.0"
      ]
     },
     "execution_count": null,
     "metadata": {},
     "output_type": "execute_result"
    }
   ],
   "source": [
    "x = 2/3.\n",
    "(f(x+h) - f(x))/h"
   ]
  },
  {
   "cell_type": "markdown",
   "metadata": {},
   "source": [
    "Let's get more complex\n",
    "We define d to be a function of three scalar inputs a, b and c"
   ]
  },
  {
   "cell_type": "code",
   "execution_count": null,
   "metadata": {},
   "outputs": [
    {
     "name": "stdout",
     "output_type": "stream",
     "text": [
      "4.0\n"
     ]
    }
   ],
   "source": [
    "a, b, c = 2., -3., 10.\n",
    "d = a*b + c\n",
    "print(d)"
   ]
  },
  {
   "cell_type": "markdown",
   "metadata": {},
   "source": [
    "Let's look at the derivative of d with respect to a, b and c"
   ]
  },
  {
   "cell_type": "code",
   "execution_count": null,
   "metadata": {},
   "outputs": [
    {
     "name": "stdout",
     "output_type": "stream",
     "text": [
      "d1 4.0\n"
     ]
    }
   ],
   "source": [
    "h = 0.0001\n",
    "a, b, c = 2., -3., 10.\n",
    "\n",
    "d1 = a*b + c\n",
    "\n",
    "print('d1',d1)"
   ]
  },
  {
   "cell_type": "markdown",
   "metadata": {},
   "source": [
    "If we nudge `a` up will the function go up or down?"
   ]
  },
  {
   "cell_type": "code",
   "execution_count": null,
   "metadata": {},
   "outputs": [],
   "source": [
    "a += h\n",
    "d2 = a*b + c"
   ]
  },
  {
   "cell_type": "markdown",
   "metadata": {},
   "source": [
    "It will go down.\n",
    "`a` is slightly higher but it is being multiplied by a negative number\n",
    "so the product itself is slightly larger negative number than before.\n",
    "Hence the function will go down."
   ]
  },
  {
   "cell_type": "code",
   "execution_count": null,
   "metadata": {},
   "outputs": [
    {
     "name": "stdout",
     "output_type": "stream",
     "text": [
      "d1 4.0\n",
      "d2 3.999699999999999\n"
     ]
    }
   ],
   "source": [
    "print('d1',d1)\n",
    "print('d2',d2)"
   ]
  },
  {
   "cell_type": "markdown",
   "metadata": {},
   "source": [
    "The above tells us the slope will be a negative number"
   ]
  },
  {
   "cell_type": "code",
   "execution_count": null,
   "metadata": {},
   "outputs": [
    {
     "name": "stdout",
     "output_type": "stream",
     "text": [
      "slope -3.000000000010772\n"
     ]
    }
   ],
   "source": [
    "print('slope', (d2-d1)/h)"
   ]
  },
  {
   "cell_type": "markdown",
   "metadata": {},
   "source": [
    "If we nudge `b` up will the function go up or down? "
   ]
  },
  {
   "cell_type": "code",
   "execution_count": null,
   "metadata": {},
   "outputs": [
    {
     "name": "stdout",
     "output_type": "stream",
     "text": [
      "d1 4.0\n",
      "d2 4.0002\n",
      "slope 2.0000000000042206\n"
     ]
    }
   ],
   "source": [
    "h = 0.0001\n",
    "a, b, c = 2., -3., 10.\n",
    "\n",
    "d1 = a*b + c\n",
    "b += h\n",
    "d2 = a*b + c\n",
    "print('d1',d1)\n",
    "print('d2',d2)\n",
    "print('slope',(d2-d1)/h)"
   ]
  },
  {
   "cell_type": "markdown",
   "metadata": {},
   "source": [
    "Finally, examine the influence of c on the output.\n",
    "If we nudge `c` up will the function go up or down? "
   ]
  },
  {
   "cell_type": "code",
   "execution_count": null,
   "metadata": {},
   "outputs": [
    {
     "name": "stdout",
     "output_type": "stream",
     "text": [
      "d1 4.0\n",
      "d2 4.0001\n",
      "slope 0.9999999999976694\n"
     ]
    }
   ],
   "source": [
    "h = 0.0001\n",
    "a, b, c = 2., -3., 10.\n",
    "\n",
    "d1 = a*b + c\n",
    "c += h\n",
    "d2 = a*b + c\n",
    "print('d1',d1)\n",
    "print('d2',d2)\n",
    "print('slope',(d2-d1)/h)"
   ]
  },
  {
   "cell_type": "code",
   "execution_count": null,
   "metadata": {},
   "outputs": [],
   "source": [
    "from neev.engine import *"
   ]
  },
  {
   "cell_type": "code",
   "execution_count": null,
   "metadata": {},
   "outputs": [
    {
     "data": {
      "text/plain": [
       "Value(data=2.0)"
      ]
     },
     "execution_count": null,
     "metadata": {},
     "output_type": "execute_result"
    }
   ],
   "source": [
    "a = Value(2., label='a')\n",
    "a"
   ]
  },
  {
   "cell_type": "code",
   "execution_count": null,
   "metadata": {},
   "outputs": [
    {
     "data": {
      "text/plain": [
       "Value(data=-1.0)"
      ]
     },
     "execution_count": null,
     "metadata": {},
     "output_type": "execute_result"
    }
   ],
   "source": [
    "b = Value(-3, label='b')\n",
    "a+b"
   ]
  },
  {
   "cell_type": "code",
   "execution_count": null,
   "metadata": {},
   "outputs": [
    {
     "data": {
      "text/plain": [
       "Value(data=4.0)"
      ]
     },
     "execution_count": null,
     "metadata": {},
     "output_type": "execute_result"
    }
   ],
   "source": [
    "c = Value(10., label='c')\n",
    "e = a*b; e.label = 'e'\n",
    "d = e + c; d.label = 'd'\n",
    "d"
   ]
  },
  {
   "cell_type": "code",
   "execution_count": null,
   "metadata": {},
   "outputs": [
    {
     "data": {
      "text/plain": [
       "{Value(data=-6.0), Value(data=10.0)}"
      ]
     },
     "execution_count": null,
     "metadata": {},
     "output_type": "execute_result"
    }
   ],
   "source": [
    "d._prev"
   ]
  },
  {
   "cell_type": "code",
   "execution_count": null,
   "metadata": {},
   "outputs": [
    {
     "data": {
      "text/plain": [
       "'+'"
      ]
     },
     "execution_count": null,
     "metadata": {},
     "output_type": "execute_result"
    }
   ],
   "source": [
    "d._op"
   ]
  },
  {
   "cell_type": "code",
   "execution_count": null,
   "metadata": {},
   "outputs": [
    {
     "data": {
      "text/plain": [
       "Value(data=-8.0)"
      ]
     },
     "execution_count": null,
     "metadata": {},
     "output_type": "execute_result"
    }
   ],
   "source": [
    "f = Value(-2.); f.label='f'\n",
    "L = d*f; L.label = 'L'\n",
    "L"
   ]
  },
  {
   "cell_type": "code",
   "execution_count": null,
   "metadata": {},
   "outputs": [],
   "source": [
    "from neev.viz import *"
   ]
  },
  {
   "cell_type": "markdown",
   "metadata": {},
   "source": [
    "Visualize the computation graph. Observe that all the grad values are zero. We will start filling them in manually."
   ]
  },
  {
   "cell_type": "code",
   "execution_count": null,
   "metadata": {},
   "outputs": [
    {
     "data": {
      "image/svg+xml": [
       "<svg xmlns=\"http://www.w3.org/2000/svg\" xmlns:xlink=\"http://www.w3.org/1999/xlink\" width=\"666pt\" height=\"168pt\" viewBox=\"0.00 0.00 666.00 168.00\">\n",
       "<g id=\"graph0\" class=\"graph\" transform=\"scale(1 1) rotate(0) translate(4 164)\">\n",
       "<title>G</title>\n",
       "<polygon fill=\"white\" stroke=\"none\" points=\"-4,4 -4,-164 662,-164 662,4 -4,4\"/>\n",
       "<!-- 4521397840 -->\n",
       "<g id=\"node1\" class=\"node\">\n",
       "<title>4521397840</title>\n",
       "<g id=\"a_node1\"><a xlink:title=\"L \n",
       " data -8.0000 \n",
       " grad 0.0000\">\n",
       "<path fill=\"none\" stroke=\"black\" d=\"M646,-88C646,-88 578,-88 578,-88 572,-88 566,-82 566,-76 566,-76 566,-47 566,-47 566,-41 572,-35 578,-35 578,-35 646,-35 646,-35 652,-35 658,-41 658,-47 658,-47 658,-76 658,-76 658,-82 652,-88 646,-88\"/>\n",
       "<text text-anchor=\"middle\" x=\"612\" y=\"-72.8\" font-family=\"Times,serif\" font-size=\"14.00\">L </text>\n",
       "<text text-anchor=\"middle\" x=\"612\" y=\"-57.8\" font-family=\"Times,serif\" font-size=\"14.00\"> data -8.0000 </text>\n",
       "<text text-anchor=\"middle\" x=\"612\" y=\"-42.8\" font-family=\"Times,serif\" font-size=\"14.00\"> grad 0.0000</text>\n",
       "</a>\n",
       "</g>\n",
       "</g>\n",
       "<!-- MU4521397840 -->\n",
       "<g id=\"node2\" class=\"node\">\n",
       "<title>MU4521397840</title>\n",
       "<g id=\"a_node2\"><a xlink:title=\"*\">\n",
       "<path fill=\"none\" stroke=\"black\" d=\"M522.33,-73C522.33,-73 514.67,-73 514.67,-73 510.83,-73 507,-69.17 507,-65.33 507,-65.33 507,-57.67 507,-57.67 507,-53.83 510.83,-50 514.67,-50 514.67,-50 522.33,-50 522.33,-50 526.17,-50 530,-53.83 530,-57.67 530,-57.67 530,-65.33 530,-65.33 530,-69.17 526.17,-73 522.33,-73\"/>\n",
       "<text text-anchor=\"middle\" x=\"518.5\" y=\"-57.8\" font-family=\"Times,serif\" font-size=\"14.00\">*</text>\n",
       "</a>\n",
       "</g>\n",
       "</g>\n",
       "<!-- MU4521397840&#45;&gt;4521397840 -->\n",
       "<g id=\"edge1\" class=\"edge\">\n",
       "<title>MU4521397840-&gt;4521397840</title>\n",
       "<path fill=\"none\" stroke=\"black\" d=\"M530.36,-61.5C536.68,-61.5 545.2,-61.5 554.34,-61.5\"/>\n",
       "<polygon fill=\"black\" stroke=\"black\" points=\"554.17,-65 564.17,-61.5 554.17,-58 554.17,-65\"/>\n",
       "</g>\n",
       "<!-- 4521406048 -->\n",
       "<g id=\"node3\" class=\"node\">\n",
       "<title>4521406048</title>\n",
       "<g id=\"a_node3\"><a xlink:title=\"d \n",
       " data 4.0000 \n",
       " grad 0.0000\">\n",
       "<path fill=\"none\" stroke=\"black\" d=\"M457,-124C457,-124 393,-124 393,-124 387,-124 381,-118 381,-112 381,-112 381,-83 381,-83 381,-77 387,-71 393,-71 393,-71 457,-71 457,-71 463,-71 469,-77 469,-83 469,-83 469,-112 469,-112 469,-118 463,-124 457,-124\"/>\n",
       "<text text-anchor=\"middle\" x=\"425\" y=\"-108.8\" font-family=\"Times,serif\" font-size=\"14.00\">d </text>\n",
       "<text text-anchor=\"middle\" x=\"425\" y=\"-93.8\" font-family=\"Times,serif\" font-size=\"14.00\"> data 4.0000 </text>\n",
       "<text text-anchor=\"middle\" x=\"425\" y=\"-78.8\" font-family=\"Times,serif\" font-size=\"14.00\"> grad 0.0000</text>\n",
       "</a>\n",
       "</g>\n",
       "</g>\n",
       "<!-- 4521406048&#45;&gt;MU4521397840 -->\n",
       "<g id=\"edge5\" class=\"edge\">\n",
       "<title>4521406048-&gt;MU4521397840</title>\n",
       "<path fill=\"none\" stroke=\"black\" d=\"M469.34,-80.45C478.65,-76.79 488.09,-73.07 496.12,-69.91\"/>\n",
       "<polygon fill=\"black\" stroke=\"black\" points=\"497.26,-73.22 505.29,-66.31 494.7,-66.71 497.26,-73.22\"/>\n",
       "</g>\n",
       "<!-- PL4521406048 -->\n",
       "<g id=\"node4\" class=\"node\">\n",
       "<title>PL4521406048</title>\n",
       "<g id=\"a_node4\"><a xlink:title=\"+\">\n",
       "<path fill=\"none\" stroke=\"black\" d=\"M335.33,-109C335.33,-109 325.67,-109 325.67,-109 321.83,-109 318,-105.17 318,-101.33 318,-101.33 318,-93.67 318,-93.67 318,-89.83 321.83,-86 325.67,-86 325.67,-86 335.33,-86 335.33,-86 339.17,-86 343,-89.83 343,-93.67 343,-93.67 343,-101.33 343,-101.33 343,-105.17 339.17,-109 335.33,-109\"/>\n",
       "<text text-anchor=\"middle\" x=\"330.5\" y=\"-93.8\" font-family=\"Times,serif\" font-size=\"14.00\">+</text>\n",
       "</a>\n",
       "</g>\n",
       "</g>\n",
       "<!-- PL4521406048&#45;&gt;4521406048 -->\n",
       "<g id=\"edge2\" class=\"edge\">\n",
       "<title>PL4521406048-&gt;4521406048</title>\n",
       "<path fill=\"none\" stroke=\"black\" d=\"M343.22,-97.5C350.14,-97.5 359.46,-97.5 369.31,-97.5\"/>\n",
       "<polygon fill=\"black\" stroke=\"black\" points=\"369.04,-101 379.04,-97.5 369.04,-94 369.04,-101\"/>\n",
       "</g>\n",
       "<!-- 4521640096 -->\n",
       "<g id=\"node5\" class=\"node\">\n",
       "<title>4521640096</title>\n",
       "<g id=\"a_node5\"><a xlink:title=\"f \n",
       " data -2.0000 \n",
       " grad 0.0000\">\n",
       "<path fill=\"none\" stroke=\"black\" d=\"M459,-53C459,-53 391,-53 391,-53 385,-53 379,-47 379,-41 379,-41 379,-12 379,-12 379,-6 385,0 391,0 391,0 459,0 459,0 465,0 471,-6 471,-12 471,-12 471,-41 471,-41 471,-47 465,-53 459,-53\"/>\n",
       "<text text-anchor=\"middle\" x=\"425\" y=\"-37.8\" font-family=\"Times,serif\" font-size=\"14.00\">f </text>\n",
       "<text text-anchor=\"middle\" x=\"425\" y=\"-22.8\" font-family=\"Times,serif\" font-size=\"14.00\"> data -2.0000 </text>\n",
       "<text text-anchor=\"middle\" x=\"425\" y=\"-7.8\" font-family=\"Times,serif\" font-size=\"14.00\"> grad 0.0000</text>\n",
       "</a>\n",
       "</g>\n",
       "</g>\n",
       "<!-- 4521640096&#45;&gt;MU4521397840 -->\n",
       "<g id=\"edge4\" class=\"edge\">\n",
       "<title>4521640096-&gt;MU4521397840</title>\n",
       "<path fill=\"none\" stroke=\"black\" d=\"M471.48,-43.9C479.97,-47.15 488.48,-50.4 495.83,-53.21\"/>\n",
       "<polygon fill=\"black\" stroke=\"black\" points=\"494.56,-56.47 505.15,-56.78 497.06,-49.94 494.56,-56.47\"/>\n",
       "</g>\n",
       "<!-- 4521403600 -->\n",
       "<g id=\"node6\" class=\"node\">\n",
       "<title>4521403600</title>\n",
       "<g id=\"a_node6\"><a xlink:title=\"c \n",
       " data 10.0000 \n",
       " grad 0.0000\">\n",
       "<path fill=\"none\" stroke=\"black\" d=\"M270,-160C270,-160 199,-160 199,-160 193,-160 187,-154 187,-148 187,-148 187,-119 187,-119 187,-113 193,-107 199,-107 199,-107 270,-107 270,-107 276,-107 282,-113 282,-119 282,-119 282,-148 282,-148 282,-154 276,-160 270,-160\"/>\n",
       "<text text-anchor=\"middle\" x=\"234.5\" y=\"-144.8\" font-family=\"Times,serif\" font-size=\"14.00\">c </text>\n",
       "<text text-anchor=\"middle\" x=\"234.5\" y=\"-129.8\" font-family=\"Times,serif\" font-size=\"14.00\"> data 10.0000 </text>\n",
       "<text text-anchor=\"middle\" x=\"234.5\" y=\"-114.8\" font-family=\"Times,serif\" font-size=\"14.00\"> grad 0.0000</text>\n",
       "</a>\n",
       "</g>\n",
       "</g>\n",
       "<!-- 4521403600&#45;&gt;PL4521406048 -->\n",
       "<g id=\"edge7\" class=\"edge\">\n",
       "<title>4521403600-&gt;PL4521406048</title>\n",
       "<path fill=\"none\" stroke=\"black\" d=\"M282.5,-115.5C291.05,-112.22 299.61,-108.95 307.03,-106.11\"/>\n",
       "<polygon fill=\"black\" stroke=\"black\" points=\"308.09,-109.45 316.18,-102.6 305.59,-102.91 308.09,-109.45\"/>\n",
       "</g>\n",
       "<!-- 4521406768 -->\n",
       "<g id=\"node7\" class=\"node\">\n",
       "<title>4521406768</title>\n",
       "<g id=\"a_node7\"><a xlink:title=\"e \n",
       " data -6.0000 \n",
       " grad 0.0000\">\n",
       "<path fill=\"none\" stroke=\"black\" d=\"M268.5,-89C268.5,-89 200.5,-89 200.5,-89 194.5,-89 188.5,-83 188.5,-77 188.5,-77 188.5,-48 188.5,-48 188.5,-42 194.5,-36 200.5,-36 200.5,-36 268.5,-36 268.5,-36 274.5,-36 280.5,-42 280.5,-48 280.5,-48 280.5,-77 280.5,-77 280.5,-83 274.5,-89 268.5,-89\"/>\n",
       "<text text-anchor=\"middle\" x=\"234.5\" y=\"-73.8\" font-family=\"Times,serif\" font-size=\"14.00\">e </text>\n",
       "<text text-anchor=\"middle\" x=\"234.5\" y=\"-58.8\" font-family=\"Times,serif\" font-size=\"14.00\"> data -6.0000 </text>\n",
       "<text text-anchor=\"middle\" x=\"234.5\" y=\"-43.8\" font-family=\"Times,serif\" font-size=\"14.00\"> grad 0.0000</text>\n",
       "</a>\n",
       "</g>\n",
       "</g>\n",
       "<!-- 4521406768&#45;&gt;PL4521406048 -->\n",
       "<g id=\"edge8\" class=\"edge\">\n",
       "<title>4521406768-&gt;PL4521406048</title>\n",
       "<path fill=\"none\" stroke=\"black\" d=\"M280.85,-79.38C290.06,-82.81 299.35,-86.28 307.32,-89.24\"/>\n",
       "<polygon fill=\"black\" stroke=\"black\" points=\"305.85,-92.43 316.45,-92.64 308.3,-85.87 305.85,-92.43\"/>\n",
       "</g>\n",
       "<!-- MU4521406768 -->\n",
       "<g id=\"node8\" class=\"node\">\n",
       "<title>MU4521406768</title>\n",
       "<g id=\"a_node8\"><a xlink:title=\"*\">\n",
       "<path fill=\"none\" stroke=\"black\" d=\"M143.33,-74C143.33,-74 135.67,-74 135.67,-74 131.83,-74 128,-70.17 128,-66.33 128,-66.33 128,-58.67 128,-58.67 128,-54.83 131.83,-51 135.67,-51 135.67,-51 143.33,-51 143.33,-51 147.17,-51 151,-54.83 151,-58.67 151,-58.67 151,-66.33 151,-66.33 151,-70.17 147.17,-74 143.33,-74\"/>\n",
       "<text text-anchor=\"middle\" x=\"139.5\" y=\"-58.8\" font-family=\"Times,serif\" font-size=\"14.00\">*</text>\n",
       "</a>\n",
       "</g>\n",
       "</g>\n",
       "<!-- MU4521406768&#45;&gt;4521406768 -->\n",
       "<g id=\"edge3\" class=\"edge\">\n",
       "<title>MU4521406768-&gt;4521406768</title>\n",
       "<path fill=\"none\" stroke=\"black\" d=\"M151.17,-62.5C157.89,-62.5 167.16,-62.5 177.05,-62.5\"/>\n",
       "<polygon fill=\"black\" stroke=\"black\" points=\"176.87,-66 186.87,-62.5 176.87,-59 176.87,-66\"/>\n",
       "</g>\n",
       "<!-- 4521405232 -->\n",
       "<g id=\"node9\" class=\"node\">\n",
       "<title>4521405232</title>\n",
       "<g id=\"a_node9\"><a xlink:title=\"a \n",
       " data 2.0000 \n",
       " grad 0.0000\">\n",
       "<path fill=\"none\" stroke=\"black\" d=\"M78,-125C78,-125 14,-125 14,-125 8,-125 2,-119 2,-113 2,-113 2,-84 2,-84 2,-78 8,-72 14,-72 14,-72 78,-72 78,-72 84,-72 90,-78 90,-84 90,-84 90,-113 90,-113 90,-119 84,-125 78,-125\"/>\n",
       "<text text-anchor=\"middle\" x=\"46\" y=\"-109.8\" font-family=\"Times,serif\" font-size=\"14.00\">a </text>\n",
       "<text text-anchor=\"middle\" x=\"46\" y=\"-94.8\" font-family=\"Times,serif\" font-size=\"14.00\"> data 2.0000 </text>\n",
       "<text text-anchor=\"middle\" x=\"46\" y=\"-79.8\" font-family=\"Times,serif\" font-size=\"14.00\"> grad 0.0000</text>\n",
       "</a>\n",
       "</g>\n",
       "</g>\n",
       "<!-- 4521405232&#45;&gt;MU4521406768 -->\n",
       "<g id=\"edge6\" class=\"edge\">\n",
       "<title>4521405232-&gt;MU4521406768</title>\n",
       "<path fill=\"none\" stroke=\"black\" d=\"M90.34,-81.45C99.65,-77.79 109.09,-74.07 117.12,-70.91\"/>\n",
       "<polygon fill=\"black\" stroke=\"black\" points=\"118.26,-74.22 126.29,-67.31 115.7,-67.71 118.26,-74.22\"/>\n",
       "</g>\n",
       "<!-- 4521406960 -->\n",
       "<g id=\"node10\" class=\"node\">\n",
       "<title>4521406960</title>\n",
       "<g id=\"a_node10\"><a xlink:title=\"b \n",
       " data -3.0000 \n",
       " grad 0.0000\">\n",
       "<path fill=\"none\" stroke=\"black\" d=\"M80,-54C80,-54 12,-54 12,-54 6,-54 0,-48 0,-42 0,-42 0,-13 0,-13 0,-7 6,-1 12,-1 12,-1 80,-1 80,-1 86,-1 92,-7 92,-13 92,-13 92,-42 92,-42 92,-48 86,-54 80,-54\"/>\n",
       "<text text-anchor=\"middle\" x=\"46\" y=\"-38.8\" font-family=\"Times,serif\" font-size=\"14.00\">b </text>\n",
       "<text text-anchor=\"middle\" x=\"46\" y=\"-23.8\" font-family=\"Times,serif\" font-size=\"14.00\"> data -3.0000 </text>\n",
       "<text text-anchor=\"middle\" x=\"46\" y=\"-8.8\" font-family=\"Times,serif\" font-size=\"14.00\"> grad 0.0000</text>\n",
       "</a>\n",
       "</g>\n",
       "</g>\n",
       "<!-- 4521406960&#45;&gt;MU4521406768 -->\n",
       "<g id=\"edge9\" class=\"edge\">\n",
       "<title>4521406960-&gt;MU4521406768</title>\n",
       "<path fill=\"none\" stroke=\"black\" d=\"M92.48,-44.9C100.97,-48.15 109.48,-51.4 116.83,-54.21\"/>\n",
       "<polygon fill=\"black\" stroke=\"black\" points=\"115.56,-57.47 126.15,-57.78 118.06,-50.94 115.56,-57.47\"/>\n",
       "</g>\n",
       "</g>\n",
       "</svg>"
      ],
      "text/plain": [
       "<IPython.core.display.SVG object>"
      ]
     },
     "metadata": {},
     "output_type": "display_data"
    }
   ],
   "source": [
    "view_dot(L)"
   ]
  },
  {
   "cell_type": "markdown",
   "metadata": {},
   "source": [
    "`dL_d` can be used to check each of the gradients that we will be manually computing."
   ]
  },
  {
   "cell_type": "code",
   "execution_count": null,
   "metadata": {},
   "outputs": [],
   "source": [
    "def dL_d(what='L'):\n",
    "    '''nudge the parameter specified in the `what` by a small amount,\n",
    "        compute the gradient numerically and return it.\n",
    "    '''\n",
    "    \n",
    "    if what not in ['a','b','c','d','e','f','L']:\n",
    "        raise Exception\n",
    "        \n",
    "    h_a = 0.0001 if what=='a' else 0\n",
    "    h_b = 0.0001 if what=='b' else 0\n",
    "    h_c = 0.0001 if what=='c' else 0   \n",
    "    h_d = 0.0001 if what=='d' else 0\n",
    "    h_e = 0.0001 if what=='e' else 0\n",
    "    h_f = 0.0001 if what=='f' else 0    \n",
    "    h_L = 0.0001 if what=='L' else 0\n",
    "    \n",
    "    a,b,c = Value(2.,label='a'),Value(-3.,label='b'),Value(10.,label='c')\n",
    "    e = a*b; e.label = 'e'\n",
    "    d = e + c; d.label = 'd'\n",
    "    f = Value(-2.); f.label='f'\n",
    "    L = d*f; L.label = 'L'\n",
    "    L1 = L.data\n",
    "\n",
    "    a,b,c = Value(2.+h_a,label='a'),Value(-3.+h_b,label='b'),Value(10.+h_c,label='c')\n",
    "    e = a*b;e.data += h_e; e.label = 'e'\n",
    "    d = e + c; d.data += h_d; d.label = 'd'\n",
    "    f = Value(-2.);f.data += h_f; f.label='f'\n",
    "    L = d*f; L.label = 'L'\n",
    "    L2 = L.data + h_L\n",
    "    \n",
    "    return ((L2-L1)/h)"
   ]
  },
  {
   "cell_type": "code",
   "execution_count": null,
   "metadata": {},
   "outputs": [],
   "source": [
    "#|hide\n",
    "# Manually compute gradients\n",
    "d.grad=f.data\n",
    "f.grad=d.data\n",
    "L.grad=1"
   ]
  },
  {
   "cell_type": "markdown",
   "metadata": {},
   "source": [
    "Now that we have filled in the gradients for $L,d$ and $f$ let's visualize the computation graph."
   ]
  },
  {
   "cell_type": "code",
   "execution_count": null,
   "metadata": {},
   "outputs": [
    {
     "data": {
      "image/svg+xml": [
       "<svg xmlns=\"http://www.w3.org/2000/svg\" xmlns:xlink=\"http://www.w3.org/1999/xlink\" width=\"666pt\" height=\"168pt\" viewBox=\"0.00 0.00 666.00 168.00\">\n",
       "<g id=\"graph0\" class=\"graph\" transform=\"scale(1 1) rotate(0) translate(4 164)\">\n",
       "<title>G</title>\n",
       "<polygon fill=\"white\" stroke=\"none\" points=\"-4,4 -4,-164 662,-164 662,4 -4,4\"/>\n",
       "<!-- 4521397840 -->\n",
       "<g id=\"node1\" class=\"node\">\n",
       "<title>4521397840</title>\n",
       "<g id=\"a_node1\"><a xlink:title=\"L \n",
       " data -8.0000 \n",
       " grad 1.0000\">\n",
       "<path fill=\"none\" stroke=\"black\" d=\"M646,-88C646,-88 578,-88 578,-88 572,-88 566,-82 566,-76 566,-76 566,-47 566,-47 566,-41 572,-35 578,-35 578,-35 646,-35 646,-35 652,-35 658,-41 658,-47 658,-47 658,-76 658,-76 658,-82 652,-88 646,-88\"/>\n",
       "<text text-anchor=\"middle\" x=\"612\" y=\"-72.8\" font-family=\"Times,serif\" font-size=\"14.00\">L </text>\n",
       "<text text-anchor=\"middle\" x=\"612\" y=\"-57.8\" font-family=\"Times,serif\" font-size=\"14.00\"> data -8.0000 </text>\n",
       "<text text-anchor=\"middle\" x=\"612\" y=\"-42.8\" font-family=\"Times,serif\" font-size=\"14.00\"> grad 1.0000</text>\n",
       "</a>\n",
       "</g>\n",
       "</g>\n",
       "<!-- MU4521397840 -->\n",
       "<g id=\"node2\" class=\"node\">\n",
       "<title>MU4521397840</title>\n",
       "<g id=\"a_node2\"><a xlink:title=\"*\">\n",
       "<path fill=\"none\" stroke=\"black\" d=\"M522.33,-73C522.33,-73 514.67,-73 514.67,-73 510.83,-73 507,-69.17 507,-65.33 507,-65.33 507,-57.67 507,-57.67 507,-53.83 510.83,-50 514.67,-50 514.67,-50 522.33,-50 522.33,-50 526.17,-50 530,-53.83 530,-57.67 530,-57.67 530,-65.33 530,-65.33 530,-69.17 526.17,-73 522.33,-73\"/>\n",
       "<text text-anchor=\"middle\" x=\"518.5\" y=\"-57.8\" font-family=\"Times,serif\" font-size=\"14.00\">*</text>\n",
       "</a>\n",
       "</g>\n",
       "</g>\n",
       "<!-- MU4521397840&#45;&gt;4521397840 -->\n",
       "<g id=\"edge1\" class=\"edge\">\n",
       "<title>MU4521397840-&gt;4521397840</title>\n",
       "<path fill=\"none\" stroke=\"black\" d=\"M530.36,-61.5C536.68,-61.5 545.2,-61.5 554.34,-61.5\"/>\n",
       "<polygon fill=\"black\" stroke=\"black\" points=\"554.17,-65 564.17,-61.5 554.17,-58 554.17,-65\"/>\n",
       "</g>\n",
       "<!-- 4521406048 -->\n",
       "<g id=\"node3\" class=\"node\">\n",
       "<title>4521406048</title>\n",
       "<g id=\"a_node3\"><a xlink:title=\"d \n",
       " data 4.0000 \n",
       " grad -2.0000\">\n",
       "<path fill=\"none\" stroke=\"black\" d=\"M458,-124C458,-124 392,-124 392,-124 386,-124 380,-118 380,-112 380,-112 380,-83 380,-83 380,-77 386,-71 392,-71 392,-71 458,-71 458,-71 464,-71 470,-77 470,-83 470,-83 470,-112 470,-112 470,-118 464,-124 458,-124\"/>\n",
       "<text text-anchor=\"middle\" x=\"425\" y=\"-108.8\" font-family=\"Times,serif\" font-size=\"14.00\">d </text>\n",
       "<text text-anchor=\"middle\" x=\"425\" y=\"-93.8\" font-family=\"Times,serif\" font-size=\"14.00\"> data 4.0000 </text>\n",
       "<text text-anchor=\"middle\" x=\"425\" y=\"-78.8\" font-family=\"Times,serif\" font-size=\"14.00\"> grad -2.0000</text>\n",
       "</a>\n",
       "</g>\n",
       "</g>\n",
       "<!-- 4521406048&#45;&gt;MU4521397840 -->\n",
       "<g id=\"edge5\" class=\"edge\">\n",
       "<title>4521406048-&gt;MU4521397840</title>\n",
       "<path fill=\"none\" stroke=\"black\" d=\"M470.41,-80.03C479.36,-76.51 488.38,-72.96 496.09,-69.92\"/>\n",
       "<polygon fill=\"black\" stroke=\"black\" points=\"497.19,-73.25 505.22,-66.33 494.63,-66.74 497.19,-73.25\"/>\n",
       "</g>\n",
       "<!-- PL4521406048 -->\n",
       "<g id=\"node4\" class=\"node\">\n",
       "<title>PL4521406048</title>\n",
       "<g id=\"a_node4\"><a xlink:title=\"+\">\n",
       "<path fill=\"none\" stroke=\"black\" d=\"M335.33,-109C335.33,-109 325.67,-109 325.67,-109 321.83,-109 318,-105.17 318,-101.33 318,-101.33 318,-93.67 318,-93.67 318,-89.83 321.83,-86 325.67,-86 325.67,-86 335.33,-86 335.33,-86 339.17,-86 343,-89.83 343,-93.67 343,-93.67 343,-101.33 343,-101.33 343,-105.17 339.17,-109 335.33,-109\"/>\n",
       "<text text-anchor=\"middle\" x=\"330.5\" y=\"-93.8\" font-family=\"Times,serif\" font-size=\"14.00\">+</text>\n",
       "</a>\n",
       "</g>\n",
       "</g>\n",
       "<!-- PL4521406048&#45;&gt;4521406048 -->\n",
       "<g id=\"edge2\" class=\"edge\">\n",
       "<title>PL4521406048-&gt;4521406048</title>\n",
       "<path fill=\"none\" stroke=\"black\" d=\"M343.22,-97.5C349.92,-97.5 358.89,-97.5 368.4,-97.5\"/>\n",
       "<polygon fill=\"black\" stroke=\"black\" points=\"368.2,-101 378.2,-97.5 368.2,-94 368.2,-101\"/>\n",
       "</g>\n",
       "<!-- 4521640096 -->\n",
       "<g id=\"node5\" class=\"node\">\n",
       "<title>4521640096</title>\n",
       "<g id=\"a_node5\"><a xlink:title=\"f \n",
       " data -2.0000 \n",
       " grad 4.0000\">\n",
       "<path fill=\"none\" stroke=\"black\" d=\"M459,-53C459,-53 391,-53 391,-53 385,-53 379,-47 379,-41 379,-41 379,-12 379,-12 379,-6 385,0 391,0 391,0 459,0 459,0 465,0 471,-6 471,-12 471,-12 471,-41 471,-41 471,-47 465,-53 459,-53\"/>\n",
       "<text text-anchor=\"middle\" x=\"425\" y=\"-37.8\" font-family=\"Times,serif\" font-size=\"14.00\">f </text>\n",
       "<text text-anchor=\"middle\" x=\"425\" y=\"-22.8\" font-family=\"Times,serif\" font-size=\"14.00\"> data -2.0000 </text>\n",
       "<text text-anchor=\"middle\" x=\"425\" y=\"-7.8\" font-family=\"Times,serif\" font-size=\"14.00\"> grad 4.0000</text>\n",
       "</a>\n",
       "</g>\n",
       "</g>\n",
       "<!-- 4521640096&#45;&gt;MU4521397840 -->\n",
       "<g id=\"edge4\" class=\"edge\">\n",
       "<title>4521640096-&gt;MU4521397840</title>\n",
       "<path fill=\"none\" stroke=\"black\" d=\"M471.48,-43.9C479.97,-47.15 488.48,-50.4 495.83,-53.21\"/>\n",
       "<polygon fill=\"black\" stroke=\"black\" points=\"494.56,-56.47 505.15,-56.78 497.06,-49.94 494.56,-56.47\"/>\n",
       "</g>\n",
       "<!-- 4521403600 -->\n",
       "<g id=\"node6\" class=\"node\">\n",
       "<title>4521403600</title>\n",
       "<g id=\"a_node6\"><a xlink:title=\"c \n",
       " data 10.0000 \n",
       " grad 0.0000\">\n",
       "<path fill=\"none\" stroke=\"black\" d=\"M270,-160C270,-160 199,-160 199,-160 193,-160 187,-154 187,-148 187,-148 187,-119 187,-119 187,-113 193,-107 199,-107 199,-107 270,-107 270,-107 276,-107 282,-113 282,-119 282,-119 282,-148 282,-148 282,-154 276,-160 270,-160\"/>\n",
       "<text text-anchor=\"middle\" x=\"234.5\" y=\"-144.8\" font-family=\"Times,serif\" font-size=\"14.00\">c </text>\n",
       "<text text-anchor=\"middle\" x=\"234.5\" y=\"-129.8\" font-family=\"Times,serif\" font-size=\"14.00\"> data 10.0000 </text>\n",
       "<text text-anchor=\"middle\" x=\"234.5\" y=\"-114.8\" font-family=\"Times,serif\" font-size=\"14.00\"> grad 0.0000</text>\n",
       "</a>\n",
       "</g>\n",
       "</g>\n",
       "<!-- 4521403600&#45;&gt;PL4521406048 -->\n",
       "<g id=\"edge7\" class=\"edge\">\n",
       "<title>4521403600-&gt;PL4521406048</title>\n",
       "<path fill=\"none\" stroke=\"black\" d=\"M282.5,-115.5C291.05,-112.22 299.61,-108.95 307.03,-106.11\"/>\n",
       "<polygon fill=\"black\" stroke=\"black\" points=\"308.09,-109.45 316.18,-102.6 305.59,-102.91 308.09,-109.45\"/>\n",
       "</g>\n",
       "<!-- 4521406768 -->\n",
       "<g id=\"node7\" class=\"node\">\n",
       "<title>4521406768</title>\n",
       "<g id=\"a_node7\"><a xlink:title=\"e \n",
       " data -6.0000 \n",
       " grad 0.0000\">\n",
       "<path fill=\"none\" stroke=\"black\" d=\"M268.5,-89C268.5,-89 200.5,-89 200.5,-89 194.5,-89 188.5,-83 188.5,-77 188.5,-77 188.5,-48 188.5,-48 188.5,-42 194.5,-36 200.5,-36 200.5,-36 268.5,-36 268.5,-36 274.5,-36 280.5,-42 280.5,-48 280.5,-48 280.5,-77 280.5,-77 280.5,-83 274.5,-89 268.5,-89\"/>\n",
       "<text text-anchor=\"middle\" x=\"234.5\" y=\"-73.8\" font-family=\"Times,serif\" font-size=\"14.00\">e </text>\n",
       "<text text-anchor=\"middle\" x=\"234.5\" y=\"-58.8\" font-family=\"Times,serif\" font-size=\"14.00\"> data -6.0000 </text>\n",
       "<text text-anchor=\"middle\" x=\"234.5\" y=\"-43.8\" font-family=\"Times,serif\" font-size=\"14.00\"> grad 0.0000</text>\n",
       "</a>\n",
       "</g>\n",
       "</g>\n",
       "<!-- 4521406768&#45;&gt;PL4521406048 -->\n",
       "<g id=\"edge8\" class=\"edge\">\n",
       "<title>4521406768-&gt;PL4521406048</title>\n",
       "<path fill=\"none\" stroke=\"black\" d=\"M280.85,-79.38C290.06,-82.81 299.35,-86.28 307.32,-89.24\"/>\n",
       "<polygon fill=\"black\" stroke=\"black\" points=\"305.85,-92.43 316.45,-92.64 308.3,-85.87 305.85,-92.43\"/>\n",
       "</g>\n",
       "<!-- MU4521406768 -->\n",
       "<g id=\"node8\" class=\"node\">\n",
       "<title>MU4521406768</title>\n",
       "<g id=\"a_node8\"><a xlink:title=\"*\">\n",
       "<path fill=\"none\" stroke=\"black\" d=\"M143.33,-74C143.33,-74 135.67,-74 135.67,-74 131.83,-74 128,-70.17 128,-66.33 128,-66.33 128,-58.67 128,-58.67 128,-54.83 131.83,-51 135.67,-51 135.67,-51 143.33,-51 143.33,-51 147.17,-51 151,-54.83 151,-58.67 151,-58.67 151,-66.33 151,-66.33 151,-70.17 147.17,-74 143.33,-74\"/>\n",
       "<text text-anchor=\"middle\" x=\"139.5\" y=\"-58.8\" font-family=\"Times,serif\" font-size=\"14.00\">*</text>\n",
       "</a>\n",
       "</g>\n",
       "</g>\n",
       "<!-- MU4521406768&#45;&gt;4521406768 -->\n",
       "<g id=\"edge3\" class=\"edge\">\n",
       "<title>MU4521406768-&gt;4521406768</title>\n",
       "<path fill=\"none\" stroke=\"black\" d=\"M151.17,-62.5C157.89,-62.5 167.16,-62.5 177.05,-62.5\"/>\n",
       "<polygon fill=\"black\" stroke=\"black\" points=\"176.87,-66 186.87,-62.5 176.87,-59 176.87,-66\"/>\n",
       "</g>\n",
       "<!-- 4521405232 -->\n",
       "<g id=\"node9\" class=\"node\">\n",
       "<title>4521405232</title>\n",
       "<g id=\"a_node9\"><a xlink:title=\"a \n",
       " data 2.0000 \n",
       " grad 0.0000\">\n",
       "<path fill=\"none\" stroke=\"black\" d=\"M78,-125C78,-125 14,-125 14,-125 8,-125 2,-119 2,-113 2,-113 2,-84 2,-84 2,-78 8,-72 14,-72 14,-72 78,-72 78,-72 84,-72 90,-78 90,-84 90,-84 90,-113 90,-113 90,-119 84,-125 78,-125\"/>\n",
       "<text text-anchor=\"middle\" x=\"46\" y=\"-109.8\" font-family=\"Times,serif\" font-size=\"14.00\">a </text>\n",
       "<text text-anchor=\"middle\" x=\"46\" y=\"-94.8\" font-family=\"Times,serif\" font-size=\"14.00\"> data 2.0000 </text>\n",
       "<text text-anchor=\"middle\" x=\"46\" y=\"-79.8\" font-family=\"Times,serif\" font-size=\"14.00\"> grad 0.0000</text>\n",
       "</a>\n",
       "</g>\n",
       "</g>\n",
       "<!-- 4521405232&#45;&gt;MU4521406768 -->\n",
       "<g id=\"edge6\" class=\"edge\">\n",
       "<title>4521405232-&gt;MU4521406768</title>\n",
       "<path fill=\"none\" stroke=\"black\" d=\"M90.34,-81.45C99.65,-77.79 109.09,-74.07 117.12,-70.91\"/>\n",
       "<polygon fill=\"black\" stroke=\"black\" points=\"118.26,-74.22 126.29,-67.31 115.7,-67.71 118.26,-74.22\"/>\n",
       "</g>\n",
       "<!-- 4521406960 -->\n",
       "<g id=\"node10\" class=\"node\">\n",
       "<title>4521406960</title>\n",
       "<g id=\"a_node10\"><a xlink:title=\"b \n",
       " data -3.0000 \n",
       " grad 0.0000\">\n",
       "<path fill=\"none\" stroke=\"black\" d=\"M80,-54C80,-54 12,-54 12,-54 6,-54 0,-48 0,-42 0,-42 0,-13 0,-13 0,-7 6,-1 12,-1 12,-1 80,-1 80,-1 86,-1 92,-7 92,-13 92,-13 92,-42 92,-42 92,-48 86,-54 80,-54\"/>\n",
       "<text text-anchor=\"middle\" x=\"46\" y=\"-38.8\" font-family=\"Times,serif\" font-size=\"14.00\">b </text>\n",
       "<text text-anchor=\"middle\" x=\"46\" y=\"-23.8\" font-family=\"Times,serif\" font-size=\"14.00\"> data -3.0000 </text>\n",
       "<text text-anchor=\"middle\" x=\"46\" y=\"-8.8\" font-family=\"Times,serif\" font-size=\"14.00\"> grad 0.0000</text>\n",
       "</a>\n",
       "</g>\n",
       "</g>\n",
       "<!-- 4521406960&#45;&gt;MU4521406768 -->\n",
       "<g id=\"edge9\" class=\"edge\">\n",
       "<title>4521406960-&gt;MU4521406768</title>\n",
       "<path fill=\"none\" stroke=\"black\" d=\"M92.48,-44.9C100.97,-48.15 109.48,-51.4 116.83,-54.21\"/>\n",
       "<polygon fill=\"black\" stroke=\"black\" points=\"115.56,-57.47 126.15,-57.78 118.06,-50.94 115.56,-57.47\"/>\n",
       "</g>\n",
       "</g>\n",
       "</svg>"
      ],
      "text/plain": [
       "<IPython.core.display.SVG object>"
      ]
     },
     "metadata": {},
     "output_type": "display_data"
    }
   ],
   "source": [
    "view_dot(L)"
   ]
  },
  {
   "cell_type": "code",
   "execution_count": null,
   "metadata": {},
   "outputs": [
    {
     "data": {
      "text/plain": [
       "(0.9999999999976694, 1)"
      ]
     },
     "execution_count": null,
     "metadata": {},
     "output_type": "execute_result"
    }
   ],
   "source": [
    "# The gradients from our manual and the numerical check are the same up to \"floating point funkiness\"\n",
    "dL_d('L'), L.grad"
   ]
  },
  {
   "cell_type": "code",
   "execution_count": null,
   "metadata": {},
   "outputs": [
    {
     "data": {
      "text/plain": [
       "(-1.9999999999953388, -2.0)"
      ]
     },
     "execution_count": null,
     "metadata": {},
     "output_type": "execute_result"
    }
   ],
   "source": [
    "#|hide\n",
    "dL_d('d'), f.data"
   ]
  },
  {
   "cell_type": "code",
   "execution_count": null,
   "metadata": {},
   "outputs": [
    {
     "data": {
      "text/plain": [
       "(3.9999999999995595, 4.0)"
      ]
     },
     "execution_count": null,
     "metadata": {},
     "output_type": "execute_result"
    }
   ],
   "source": [
    "#|hide\n",
    "dL_d('f'), d.data"
   ]
  },
  {
   "cell_type": "markdown",
   "metadata": {},
   "source": [
    "## Gradients for the middle layer\n",
    "\n",
    "Next we derive gradients for the middle layer starting with $\\frac{\\partial L}{\\partial c}$. We need to understand how $L$ responds when $c$ is wiggled. This effect is transmitted through $d$ and recall that we derived earlier how $L$ responds when $d$ is wiggled. So if we can figure out how $c$ impacts $d$ then we can put that together with the information on how $d$ impacts $L$ to determine how $c$ impacts $L$.\n",
    "\n",
    "Per Karpathy, _\"This is crucial, if you understand the gradient of node $c$ then you understand all of backpropagation and all of the training of neural nets.\"_\n",
    "\n",
    "$\\frac{\\partial L}{\\partial c} = \\frac{\\partial d}{\\partial c}*\\frac{\\partial L}{\\partial d}$\n",
    "\n",
    "Since $d = e + c$ we have that $\\frac{\\partial d}{\\partial c} = 1$ (the \"local\" derivative of the sum expression is simple).\n",
    "\n",
    "Or $\\frac{\\partial L}{\\partial c} = 1*\\frac{\\partial L}{\\partial d} = \\frac{\\partial L}{\\partial d}$\n",
    "\n",
    "Similarly, $\\frac{\\partial L}{\\partial e} = \\frac{\\partial L}{\\partial d}$.\n",
    "\n",
    "*So the sum node distributes the incoming gradient as-is to each of it's children.*"
   ]
  },
  {
   "cell_type": "code",
   "execution_count": null,
   "metadata": {},
   "outputs": [],
   "source": [
    "c.grad = d.grad\n",
    "e.grad = d.grad"
   ]
  },
  {
   "cell_type": "code",
   "execution_count": null,
   "metadata": {},
   "outputs": [
    {
     "data": {
      "image/svg+xml": [
       "<svg xmlns=\"http://www.w3.org/2000/svg\" xmlns:xlink=\"http://www.w3.org/1999/xlink\" width=\"666pt\" height=\"168pt\" viewBox=\"0.00 0.00 666.00 168.00\">\n",
       "<g id=\"graph0\" class=\"graph\" transform=\"scale(1 1) rotate(0) translate(4 164)\">\n",
       "<title>G</title>\n",
       "<polygon fill=\"white\" stroke=\"none\" points=\"-4,4 -4,-164 662,-164 662,4 -4,4\"/>\n",
       "<!-- 4521397840 -->\n",
       "<g id=\"node1\" class=\"node\">\n",
       "<title>4521397840</title>\n",
       "<g id=\"a_node1\"><a xlink:title=\"L \n",
       " data -8.0000 \n",
       " grad 1.0000\">\n",
       "<path fill=\"none\" stroke=\"black\" d=\"M646,-88C646,-88 578,-88 578,-88 572,-88 566,-82 566,-76 566,-76 566,-47 566,-47 566,-41 572,-35 578,-35 578,-35 646,-35 646,-35 652,-35 658,-41 658,-47 658,-47 658,-76 658,-76 658,-82 652,-88 646,-88\"/>\n",
       "<text text-anchor=\"middle\" x=\"612\" y=\"-72.8\" font-family=\"Times,serif\" font-size=\"14.00\">L </text>\n",
       "<text text-anchor=\"middle\" x=\"612\" y=\"-57.8\" font-family=\"Times,serif\" font-size=\"14.00\"> data -8.0000 </text>\n",
       "<text text-anchor=\"middle\" x=\"612\" y=\"-42.8\" font-family=\"Times,serif\" font-size=\"14.00\"> grad 1.0000</text>\n",
       "</a>\n",
       "</g>\n",
       "</g>\n",
       "<!-- MU4521397840 -->\n",
       "<g id=\"node2\" class=\"node\">\n",
       "<title>MU4521397840</title>\n",
       "<g id=\"a_node2\"><a xlink:title=\"*\">\n",
       "<path fill=\"none\" stroke=\"black\" d=\"M522.33,-73C522.33,-73 514.67,-73 514.67,-73 510.83,-73 507,-69.17 507,-65.33 507,-65.33 507,-57.67 507,-57.67 507,-53.83 510.83,-50 514.67,-50 514.67,-50 522.33,-50 522.33,-50 526.17,-50 530,-53.83 530,-57.67 530,-57.67 530,-65.33 530,-65.33 530,-69.17 526.17,-73 522.33,-73\"/>\n",
       "<text text-anchor=\"middle\" x=\"518.5\" y=\"-57.8\" font-family=\"Times,serif\" font-size=\"14.00\">*</text>\n",
       "</a>\n",
       "</g>\n",
       "</g>\n",
       "<!-- MU4521397840&#45;&gt;4521397840 -->\n",
       "<g id=\"edge1\" class=\"edge\">\n",
       "<title>MU4521397840-&gt;4521397840</title>\n",
       "<path fill=\"none\" stroke=\"black\" d=\"M530.36,-61.5C536.68,-61.5 545.2,-61.5 554.34,-61.5\"/>\n",
       "<polygon fill=\"black\" stroke=\"black\" points=\"554.17,-65 564.17,-61.5 554.17,-58 554.17,-65\"/>\n",
       "</g>\n",
       "<!-- 4521406048 -->\n",
       "<g id=\"node3\" class=\"node\">\n",
       "<title>4521406048</title>\n",
       "<g id=\"a_node3\"><a xlink:title=\"d \n",
       " data 4.0000 \n",
       " grad -2.0000\">\n",
       "<path fill=\"none\" stroke=\"black\" d=\"M458,-124C458,-124 392,-124 392,-124 386,-124 380,-118 380,-112 380,-112 380,-83 380,-83 380,-77 386,-71 392,-71 392,-71 458,-71 458,-71 464,-71 470,-77 470,-83 470,-83 470,-112 470,-112 470,-118 464,-124 458,-124\"/>\n",
       "<text text-anchor=\"middle\" x=\"425\" y=\"-108.8\" font-family=\"Times,serif\" font-size=\"14.00\">d </text>\n",
       "<text text-anchor=\"middle\" x=\"425\" y=\"-93.8\" font-family=\"Times,serif\" font-size=\"14.00\"> data 4.0000 </text>\n",
       "<text text-anchor=\"middle\" x=\"425\" y=\"-78.8\" font-family=\"Times,serif\" font-size=\"14.00\"> grad -2.0000</text>\n",
       "</a>\n",
       "</g>\n",
       "</g>\n",
       "<!-- 4521406048&#45;&gt;MU4521397840 -->\n",
       "<g id=\"edge5\" class=\"edge\">\n",
       "<title>4521406048-&gt;MU4521397840</title>\n",
       "<path fill=\"none\" stroke=\"black\" d=\"M470.41,-80.03C479.36,-76.51 488.38,-72.96 496.09,-69.92\"/>\n",
       "<polygon fill=\"black\" stroke=\"black\" points=\"497.19,-73.25 505.22,-66.33 494.63,-66.74 497.19,-73.25\"/>\n",
       "</g>\n",
       "<!-- PL4521406048 -->\n",
       "<g id=\"node4\" class=\"node\">\n",
       "<title>PL4521406048</title>\n",
       "<g id=\"a_node4\"><a xlink:title=\"+\">\n",
       "<path fill=\"none\" stroke=\"black\" d=\"M335.33,-109C335.33,-109 325.67,-109 325.67,-109 321.83,-109 318,-105.17 318,-101.33 318,-101.33 318,-93.67 318,-93.67 318,-89.83 321.83,-86 325.67,-86 325.67,-86 335.33,-86 335.33,-86 339.17,-86 343,-89.83 343,-93.67 343,-93.67 343,-101.33 343,-101.33 343,-105.17 339.17,-109 335.33,-109\"/>\n",
       "<text text-anchor=\"middle\" x=\"330.5\" y=\"-93.8\" font-family=\"Times,serif\" font-size=\"14.00\">+</text>\n",
       "</a>\n",
       "</g>\n",
       "</g>\n",
       "<!-- PL4521406048&#45;&gt;4521406048 -->\n",
       "<g id=\"edge2\" class=\"edge\">\n",
       "<title>PL4521406048-&gt;4521406048</title>\n",
       "<path fill=\"none\" stroke=\"black\" d=\"M343.22,-97.5C349.92,-97.5 358.89,-97.5 368.4,-97.5\"/>\n",
       "<polygon fill=\"black\" stroke=\"black\" points=\"368.2,-101 378.2,-97.5 368.2,-94 368.2,-101\"/>\n",
       "</g>\n",
       "<!-- 4521640096 -->\n",
       "<g id=\"node5\" class=\"node\">\n",
       "<title>4521640096</title>\n",
       "<g id=\"a_node5\"><a xlink:title=\"f \n",
       " data -2.0000 \n",
       " grad 4.0000\">\n",
       "<path fill=\"none\" stroke=\"black\" d=\"M459,-53C459,-53 391,-53 391,-53 385,-53 379,-47 379,-41 379,-41 379,-12 379,-12 379,-6 385,0 391,0 391,0 459,0 459,0 465,0 471,-6 471,-12 471,-12 471,-41 471,-41 471,-47 465,-53 459,-53\"/>\n",
       "<text text-anchor=\"middle\" x=\"425\" y=\"-37.8\" font-family=\"Times,serif\" font-size=\"14.00\">f </text>\n",
       "<text text-anchor=\"middle\" x=\"425\" y=\"-22.8\" font-family=\"Times,serif\" font-size=\"14.00\"> data -2.0000 </text>\n",
       "<text text-anchor=\"middle\" x=\"425\" y=\"-7.8\" font-family=\"Times,serif\" font-size=\"14.00\"> grad 4.0000</text>\n",
       "</a>\n",
       "</g>\n",
       "</g>\n",
       "<!-- 4521640096&#45;&gt;MU4521397840 -->\n",
       "<g id=\"edge4\" class=\"edge\">\n",
       "<title>4521640096-&gt;MU4521397840</title>\n",
       "<path fill=\"none\" stroke=\"black\" d=\"M471.48,-43.9C479.97,-47.15 488.48,-50.4 495.83,-53.21\"/>\n",
       "<polygon fill=\"black\" stroke=\"black\" points=\"494.56,-56.47 505.15,-56.78 497.06,-49.94 494.56,-56.47\"/>\n",
       "</g>\n",
       "<!-- 4521403600 -->\n",
       "<g id=\"node6\" class=\"node\">\n",
       "<title>4521403600</title>\n",
       "<g id=\"a_node6\"><a xlink:title=\"c \n",
       " data 10.0000 \n",
       " grad -2.0000\">\n",
       "<path fill=\"none\" stroke=\"black\" d=\"M270,-160C270,-160 199,-160 199,-160 193,-160 187,-154 187,-148 187,-148 187,-119 187,-119 187,-113 193,-107 199,-107 199,-107 270,-107 270,-107 276,-107 282,-113 282,-119 282,-119 282,-148 282,-148 282,-154 276,-160 270,-160\"/>\n",
       "<text text-anchor=\"middle\" x=\"234.5\" y=\"-144.8\" font-family=\"Times,serif\" font-size=\"14.00\">c </text>\n",
       "<text text-anchor=\"middle\" x=\"234.5\" y=\"-129.8\" font-family=\"Times,serif\" font-size=\"14.00\"> data 10.0000 </text>\n",
       "<text text-anchor=\"middle\" x=\"234.5\" y=\"-114.8\" font-family=\"Times,serif\" font-size=\"14.00\"> grad -2.0000</text>\n",
       "</a>\n",
       "</g>\n",
       "</g>\n",
       "<!-- 4521403600&#45;&gt;PL4521406048 -->\n",
       "<g id=\"edge7\" class=\"edge\">\n",
       "<title>4521403600-&gt;PL4521406048</title>\n",
       "<path fill=\"none\" stroke=\"black\" d=\"M282.5,-115.5C291.05,-112.22 299.61,-108.95 307.03,-106.11\"/>\n",
       "<polygon fill=\"black\" stroke=\"black\" points=\"308.09,-109.45 316.18,-102.6 305.59,-102.91 308.09,-109.45\"/>\n",
       "</g>\n",
       "<!-- 4521406768 -->\n",
       "<g id=\"node7\" class=\"node\">\n",
       "<title>4521406768</title>\n",
       "<g id=\"a_node7\"><a xlink:title=\"e \n",
       " data -6.0000 \n",
       " grad -2.0000\">\n",
       "<path fill=\"none\" stroke=\"black\" d=\"M268.5,-89C268.5,-89 200.5,-89 200.5,-89 194.5,-89 188.5,-83 188.5,-77 188.5,-77 188.5,-48 188.5,-48 188.5,-42 194.5,-36 200.5,-36 200.5,-36 268.5,-36 268.5,-36 274.5,-36 280.5,-42 280.5,-48 280.5,-48 280.5,-77 280.5,-77 280.5,-83 274.5,-89 268.5,-89\"/>\n",
       "<text text-anchor=\"middle\" x=\"234.5\" y=\"-73.8\" font-family=\"Times,serif\" font-size=\"14.00\">e </text>\n",
       "<text text-anchor=\"middle\" x=\"234.5\" y=\"-58.8\" font-family=\"Times,serif\" font-size=\"14.00\"> data -6.0000 </text>\n",
       "<text text-anchor=\"middle\" x=\"234.5\" y=\"-43.8\" font-family=\"Times,serif\" font-size=\"14.00\"> grad -2.0000</text>\n",
       "</a>\n",
       "</g>\n",
       "</g>\n",
       "<!-- 4521406768&#45;&gt;PL4521406048 -->\n",
       "<g id=\"edge8\" class=\"edge\">\n",
       "<title>4521406768-&gt;PL4521406048</title>\n",
       "<path fill=\"none\" stroke=\"black\" d=\"M280.85,-79.38C290.06,-82.81 299.35,-86.28 307.32,-89.24\"/>\n",
       "<polygon fill=\"black\" stroke=\"black\" points=\"305.85,-92.43 316.45,-92.64 308.3,-85.87 305.85,-92.43\"/>\n",
       "</g>\n",
       "<!-- MU4521406768 -->\n",
       "<g id=\"node8\" class=\"node\">\n",
       "<title>MU4521406768</title>\n",
       "<g id=\"a_node8\"><a xlink:title=\"*\">\n",
       "<path fill=\"none\" stroke=\"black\" d=\"M143.33,-74C143.33,-74 135.67,-74 135.67,-74 131.83,-74 128,-70.17 128,-66.33 128,-66.33 128,-58.67 128,-58.67 128,-54.83 131.83,-51 135.67,-51 135.67,-51 143.33,-51 143.33,-51 147.17,-51 151,-54.83 151,-58.67 151,-58.67 151,-66.33 151,-66.33 151,-70.17 147.17,-74 143.33,-74\"/>\n",
       "<text text-anchor=\"middle\" x=\"139.5\" y=\"-58.8\" font-family=\"Times,serif\" font-size=\"14.00\">*</text>\n",
       "</a>\n",
       "</g>\n",
       "</g>\n",
       "<!-- MU4521406768&#45;&gt;4521406768 -->\n",
       "<g id=\"edge3\" class=\"edge\">\n",
       "<title>MU4521406768-&gt;4521406768</title>\n",
       "<path fill=\"none\" stroke=\"black\" d=\"M151.17,-62.5C157.89,-62.5 167.16,-62.5 177.05,-62.5\"/>\n",
       "<polygon fill=\"black\" stroke=\"black\" points=\"176.87,-66 186.87,-62.5 176.87,-59 176.87,-66\"/>\n",
       "</g>\n",
       "<!-- 4521405232 -->\n",
       "<g id=\"node9\" class=\"node\">\n",
       "<title>4521405232</title>\n",
       "<g id=\"a_node9\"><a xlink:title=\"a \n",
       " data 2.0000 \n",
       " grad 0.0000\">\n",
       "<path fill=\"none\" stroke=\"black\" d=\"M78,-125C78,-125 14,-125 14,-125 8,-125 2,-119 2,-113 2,-113 2,-84 2,-84 2,-78 8,-72 14,-72 14,-72 78,-72 78,-72 84,-72 90,-78 90,-84 90,-84 90,-113 90,-113 90,-119 84,-125 78,-125\"/>\n",
       "<text text-anchor=\"middle\" x=\"46\" y=\"-109.8\" font-family=\"Times,serif\" font-size=\"14.00\">a </text>\n",
       "<text text-anchor=\"middle\" x=\"46\" y=\"-94.8\" font-family=\"Times,serif\" font-size=\"14.00\"> data 2.0000 </text>\n",
       "<text text-anchor=\"middle\" x=\"46\" y=\"-79.8\" font-family=\"Times,serif\" font-size=\"14.00\"> grad 0.0000</text>\n",
       "</a>\n",
       "</g>\n",
       "</g>\n",
       "<!-- 4521405232&#45;&gt;MU4521406768 -->\n",
       "<g id=\"edge6\" class=\"edge\">\n",
       "<title>4521405232-&gt;MU4521406768</title>\n",
       "<path fill=\"none\" stroke=\"black\" d=\"M90.34,-81.45C99.65,-77.79 109.09,-74.07 117.12,-70.91\"/>\n",
       "<polygon fill=\"black\" stroke=\"black\" points=\"118.26,-74.22 126.29,-67.31 115.7,-67.71 118.26,-74.22\"/>\n",
       "</g>\n",
       "<!-- 4521406960 -->\n",
       "<g id=\"node10\" class=\"node\">\n",
       "<title>4521406960</title>\n",
       "<g id=\"a_node10\"><a xlink:title=\"b \n",
       " data -3.0000 \n",
       " grad 0.0000\">\n",
       "<path fill=\"none\" stroke=\"black\" d=\"M80,-54C80,-54 12,-54 12,-54 6,-54 0,-48 0,-42 0,-42 0,-13 0,-13 0,-7 6,-1 12,-1 12,-1 80,-1 80,-1 86,-1 92,-7 92,-13 92,-13 92,-42 92,-42 92,-48 86,-54 80,-54\"/>\n",
       "<text text-anchor=\"middle\" x=\"46\" y=\"-38.8\" font-family=\"Times,serif\" font-size=\"14.00\">b </text>\n",
       "<text text-anchor=\"middle\" x=\"46\" y=\"-23.8\" font-family=\"Times,serif\" font-size=\"14.00\"> data -3.0000 </text>\n",
       "<text text-anchor=\"middle\" x=\"46\" y=\"-8.8\" font-family=\"Times,serif\" font-size=\"14.00\"> grad 0.0000</text>\n",
       "</a>\n",
       "</g>\n",
       "</g>\n",
       "<!-- 4521406960&#45;&gt;MU4521406768 -->\n",
       "<g id=\"edge9\" class=\"edge\">\n",
       "<title>4521406960-&gt;MU4521406768</title>\n",
       "<path fill=\"none\" stroke=\"black\" d=\"M92.48,-44.9C100.97,-48.15 109.48,-51.4 116.83,-54.21\"/>\n",
       "<polygon fill=\"black\" stroke=\"black\" points=\"115.56,-57.47 126.15,-57.78 118.06,-50.94 115.56,-57.47\"/>\n",
       "</g>\n",
       "</g>\n",
       "</svg>"
      ],
      "text/plain": [
       "<IPython.core.display.SVG object>"
      ]
     },
     "metadata": {},
     "output_type": "display_data"
    }
   ],
   "source": [
    "view_dot(L)"
   ]
  },
  {
   "cell_type": "code",
   "execution_count": null,
   "metadata": {},
   "outputs": [
    {
     "data": {
      "text/plain": [
       "(-1.9999999999953388, -2.0)"
      ]
     },
     "execution_count": null,
     "metadata": {},
     "output_type": "execute_result"
    }
   ],
   "source": [
    "dL_d('c'), d.grad"
   ]
  },
  {
   "cell_type": "code",
   "execution_count": null,
   "metadata": {},
   "outputs": [
    {
     "data": {
      "text/plain": [
       "(-1.9999999999953388, -2.0)"
      ]
     },
     "execution_count": null,
     "metadata": {},
     "output_type": "execute_result"
    }
   ],
   "source": [
    "dL_d('e'), d.grad"
   ]
  },
  {
   "cell_type": "markdown",
   "metadata": {},
   "source": [
    "What is $\\frac{\\partial L}{\\partial a}$? \n",
    "\n",
    "It is $\\frac{\\partial e}{\\partial a}*\\frac{\\partial L}{\\partial e} = b*\\frac{\\partial L}{\\partial e} = -3*-2 = 6$"
   ]
  },
  {
   "cell_type": "code",
   "execution_count": null,
   "metadata": {},
   "outputs": [
    {
     "data": {
      "text/plain": [
       "6.0"
      ]
     },
     "execution_count": null,
     "metadata": {},
     "output_type": "execute_result"
    }
   ],
   "source": [
    "a.grad=e.grad * b.data\n",
    "a.grad"
   ]
  },
  {
   "cell_type": "code",
   "execution_count": null,
   "metadata": {},
   "outputs": [
    {
     "data": {
      "text/plain": [
       "6.000000000021544"
      ]
     },
     "execution_count": null,
     "metadata": {},
     "output_type": "execute_result"
    }
   ],
   "source": [
    "dL_d('a')"
   ]
  },
  {
   "cell_type": "markdown",
   "metadata": {},
   "source": [
    "Similarly $\\frac{\\partial L}{\\partial b} = \\frac{\\partial e}{\\partial b}*\\frac{\\partial L}{\\partial e} = a*\\frac{\\partial L}{\\partial e} = 2*-2=-4$"
   ]
  },
  {
   "cell_type": "code",
   "execution_count": null,
   "metadata": {},
   "outputs": [
    {
     "data": {
      "text/plain": [
       "-4.0"
      ]
     },
     "execution_count": null,
     "metadata": {},
     "output_type": "execute_result"
    }
   ],
   "source": [
    "# Manually compute gradients\n",
    "b.grad=e.grad * a.data\n",
    "b.grad"
   ]
  },
  {
   "cell_type": "code",
   "execution_count": null,
   "metadata": {},
   "outputs": [
    {
     "data": {
      "text/plain": [
       "-4.000000000008441"
      ]
     },
     "execution_count": null,
     "metadata": {},
     "output_type": "execute_result"
    }
   ],
   "source": [
    "#|hide\n",
    "dL_d('b')"
   ]
  },
  {
   "cell_type": "code",
   "execution_count": null,
   "metadata": {},
   "outputs": [
    {
     "data": {
      "text/plain": [
       "-2.0"
      ]
     },
     "execution_count": null,
     "metadata": {},
     "output_type": "execute_result"
    }
   ],
   "source": [
    "d.grad"
   ]
  },
  {
   "cell_type": "markdown",
   "metadata": {},
   "source": [
    "At this point we have manually backpropagated through this simple example and verified that they are correct using the `dl_d`."
   ]
  },
  {
   "cell_type": "code",
   "execution_count": null,
   "metadata": {},
   "outputs": [
    {
     "data": {
      "image/svg+xml": [
       "<svg xmlns=\"http://www.w3.org/2000/svg\" xmlns:xlink=\"http://www.w3.org/1999/xlink\" width=\"666pt\" height=\"168pt\" viewBox=\"0.00 0.00 666.00 168.00\">\n",
       "<g id=\"graph0\" class=\"graph\" transform=\"scale(1 1) rotate(0) translate(4 164)\">\n",
       "<title>G</title>\n",
       "<polygon fill=\"white\" stroke=\"none\" points=\"-4,4 -4,-164 662,-164 662,4 -4,4\"/>\n",
       "<!-- 4521397840 -->\n",
       "<g id=\"node1\" class=\"node\">\n",
       "<title>4521397840</title>\n",
       "<g id=\"a_node1\"><a xlink:title=\"L \n",
       " data -8.0000 \n",
       " grad 1.0000\">\n",
       "<path fill=\"none\" stroke=\"black\" d=\"M646,-88C646,-88 578,-88 578,-88 572,-88 566,-82 566,-76 566,-76 566,-47 566,-47 566,-41 572,-35 578,-35 578,-35 646,-35 646,-35 652,-35 658,-41 658,-47 658,-47 658,-76 658,-76 658,-82 652,-88 646,-88\"/>\n",
       "<text text-anchor=\"middle\" x=\"612\" y=\"-72.8\" font-family=\"Times,serif\" font-size=\"14.00\">L </text>\n",
       "<text text-anchor=\"middle\" x=\"612\" y=\"-57.8\" font-family=\"Times,serif\" font-size=\"14.00\"> data -8.0000 </text>\n",
       "<text text-anchor=\"middle\" x=\"612\" y=\"-42.8\" font-family=\"Times,serif\" font-size=\"14.00\"> grad 1.0000</text>\n",
       "</a>\n",
       "</g>\n",
       "</g>\n",
       "<!-- MU4521397840 -->\n",
       "<g id=\"node2\" class=\"node\">\n",
       "<title>MU4521397840</title>\n",
       "<g id=\"a_node2\"><a xlink:title=\"*\">\n",
       "<path fill=\"none\" stroke=\"black\" d=\"M522.33,-73C522.33,-73 514.67,-73 514.67,-73 510.83,-73 507,-69.17 507,-65.33 507,-65.33 507,-57.67 507,-57.67 507,-53.83 510.83,-50 514.67,-50 514.67,-50 522.33,-50 522.33,-50 526.17,-50 530,-53.83 530,-57.67 530,-57.67 530,-65.33 530,-65.33 530,-69.17 526.17,-73 522.33,-73\"/>\n",
       "<text text-anchor=\"middle\" x=\"518.5\" y=\"-57.8\" font-family=\"Times,serif\" font-size=\"14.00\">*</text>\n",
       "</a>\n",
       "</g>\n",
       "</g>\n",
       "<!-- MU4521397840&#45;&gt;4521397840 -->\n",
       "<g id=\"edge1\" class=\"edge\">\n",
       "<title>MU4521397840-&gt;4521397840</title>\n",
       "<path fill=\"none\" stroke=\"black\" d=\"M530.36,-61.5C536.68,-61.5 545.2,-61.5 554.34,-61.5\"/>\n",
       "<polygon fill=\"black\" stroke=\"black\" points=\"554.17,-65 564.17,-61.5 554.17,-58 554.17,-65\"/>\n",
       "</g>\n",
       "<!-- 4521406048 -->\n",
       "<g id=\"node3\" class=\"node\">\n",
       "<title>4521406048</title>\n",
       "<g id=\"a_node3\"><a xlink:title=\"d \n",
       " data 4.0000 \n",
       " grad -2.0000\">\n",
       "<path fill=\"none\" stroke=\"black\" d=\"M458,-124C458,-124 392,-124 392,-124 386,-124 380,-118 380,-112 380,-112 380,-83 380,-83 380,-77 386,-71 392,-71 392,-71 458,-71 458,-71 464,-71 470,-77 470,-83 470,-83 470,-112 470,-112 470,-118 464,-124 458,-124\"/>\n",
       "<text text-anchor=\"middle\" x=\"425\" y=\"-108.8\" font-family=\"Times,serif\" font-size=\"14.00\">d </text>\n",
       "<text text-anchor=\"middle\" x=\"425\" y=\"-93.8\" font-family=\"Times,serif\" font-size=\"14.00\"> data 4.0000 </text>\n",
       "<text text-anchor=\"middle\" x=\"425\" y=\"-78.8\" font-family=\"Times,serif\" font-size=\"14.00\"> grad -2.0000</text>\n",
       "</a>\n",
       "</g>\n",
       "</g>\n",
       "<!-- 4521406048&#45;&gt;MU4521397840 -->\n",
       "<g id=\"edge5\" class=\"edge\">\n",
       "<title>4521406048-&gt;MU4521397840</title>\n",
       "<path fill=\"none\" stroke=\"black\" d=\"M470.41,-80.03C479.36,-76.51 488.38,-72.96 496.09,-69.92\"/>\n",
       "<polygon fill=\"black\" stroke=\"black\" points=\"497.19,-73.25 505.22,-66.33 494.63,-66.74 497.19,-73.25\"/>\n",
       "</g>\n",
       "<!-- PL4521406048 -->\n",
       "<g id=\"node4\" class=\"node\">\n",
       "<title>PL4521406048</title>\n",
       "<g id=\"a_node4\"><a xlink:title=\"+\">\n",
       "<path fill=\"none\" stroke=\"black\" d=\"M335.33,-109C335.33,-109 325.67,-109 325.67,-109 321.83,-109 318,-105.17 318,-101.33 318,-101.33 318,-93.67 318,-93.67 318,-89.83 321.83,-86 325.67,-86 325.67,-86 335.33,-86 335.33,-86 339.17,-86 343,-89.83 343,-93.67 343,-93.67 343,-101.33 343,-101.33 343,-105.17 339.17,-109 335.33,-109\"/>\n",
       "<text text-anchor=\"middle\" x=\"330.5\" y=\"-93.8\" font-family=\"Times,serif\" font-size=\"14.00\">+</text>\n",
       "</a>\n",
       "</g>\n",
       "</g>\n",
       "<!-- PL4521406048&#45;&gt;4521406048 -->\n",
       "<g id=\"edge2\" class=\"edge\">\n",
       "<title>PL4521406048-&gt;4521406048</title>\n",
       "<path fill=\"none\" stroke=\"black\" d=\"M343.22,-97.5C349.92,-97.5 358.89,-97.5 368.4,-97.5\"/>\n",
       "<polygon fill=\"black\" stroke=\"black\" points=\"368.2,-101 378.2,-97.5 368.2,-94 368.2,-101\"/>\n",
       "</g>\n",
       "<!-- 4521640096 -->\n",
       "<g id=\"node5\" class=\"node\">\n",
       "<title>4521640096</title>\n",
       "<g id=\"a_node5\"><a xlink:title=\"f \n",
       " data -2.0000 \n",
       " grad 4.0000\">\n",
       "<path fill=\"none\" stroke=\"black\" d=\"M459,-53C459,-53 391,-53 391,-53 385,-53 379,-47 379,-41 379,-41 379,-12 379,-12 379,-6 385,0 391,0 391,0 459,0 459,0 465,0 471,-6 471,-12 471,-12 471,-41 471,-41 471,-47 465,-53 459,-53\"/>\n",
       "<text text-anchor=\"middle\" x=\"425\" y=\"-37.8\" font-family=\"Times,serif\" font-size=\"14.00\">f </text>\n",
       "<text text-anchor=\"middle\" x=\"425\" y=\"-22.8\" font-family=\"Times,serif\" font-size=\"14.00\"> data -2.0000 </text>\n",
       "<text text-anchor=\"middle\" x=\"425\" y=\"-7.8\" font-family=\"Times,serif\" font-size=\"14.00\"> grad 4.0000</text>\n",
       "</a>\n",
       "</g>\n",
       "</g>\n",
       "<!-- 4521640096&#45;&gt;MU4521397840 -->\n",
       "<g id=\"edge4\" class=\"edge\">\n",
       "<title>4521640096-&gt;MU4521397840</title>\n",
       "<path fill=\"none\" stroke=\"black\" d=\"M471.48,-43.9C479.97,-47.15 488.48,-50.4 495.83,-53.21\"/>\n",
       "<polygon fill=\"black\" stroke=\"black\" points=\"494.56,-56.47 505.15,-56.78 497.06,-49.94 494.56,-56.47\"/>\n",
       "</g>\n",
       "<!-- 4521403600 -->\n",
       "<g id=\"node6\" class=\"node\">\n",
       "<title>4521403600</title>\n",
       "<g id=\"a_node6\"><a xlink:title=\"c \n",
       " data 10.0000 \n",
       " grad -2.0000\">\n",
       "<path fill=\"none\" stroke=\"black\" d=\"M270,-160C270,-160 199,-160 199,-160 193,-160 187,-154 187,-148 187,-148 187,-119 187,-119 187,-113 193,-107 199,-107 199,-107 270,-107 270,-107 276,-107 282,-113 282,-119 282,-119 282,-148 282,-148 282,-154 276,-160 270,-160\"/>\n",
       "<text text-anchor=\"middle\" x=\"234.5\" y=\"-144.8\" font-family=\"Times,serif\" font-size=\"14.00\">c </text>\n",
       "<text text-anchor=\"middle\" x=\"234.5\" y=\"-129.8\" font-family=\"Times,serif\" font-size=\"14.00\"> data 10.0000 </text>\n",
       "<text text-anchor=\"middle\" x=\"234.5\" y=\"-114.8\" font-family=\"Times,serif\" font-size=\"14.00\"> grad -2.0000</text>\n",
       "</a>\n",
       "</g>\n",
       "</g>\n",
       "<!-- 4521403600&#45;&gt;PL4521406048 -->\n",
       "<g id=\"edge7\" class=\"edge\">\n",
       "<title>4521403600-&gt;PL4521406048</title>\n",
       "<path fill=\"none\" stroke=\"black\" d=\"M282.5,-115.5C291.05,-112.22 299.61,-108.95 307.03,-106.11\"/>\n",
       "<polygon fill=\"black\" stroke=\"black\" points=\"308.09,-109.45 316.18,-102.6 305.59,-102.91 308.09,-109.45\"/>\n",
       "</g>\n",
       "<!-- 4521406768 -->\n",
       "<g id=\"node7\" class=\"node\">\n",
       "<title>4521406768</title>\n",
       "<g id=\"a_node7\"><a xlink:title=\"e \n",
       " data -6.0000 \n",
       " grad -2.0000\">\n",
       "<path fill=\"none\" stroke=\"black\" d=\"M268.5,-89C268.5,-89 200.5,-89 200.5,-89 194.5,-89 188.5,-83 188.5,-77 188.5,-77 188.5,-48 188.5,-48 188.5,-42 194.5,-36 200.5,-36 200.5,-36 268.5,-36 268.5,-36 274.5,-36 280.5,-42 280.5,-48 280.5,-48 280.5,-77 280.5,-77 280.5,-83 274.5,-89 268.5,-89\"/>\n",
       "<text text-anchor=\"middle\" x=\"234.5\" y=\"-73.8\" font-family=\"Times,serif\" font-size=\"14.00\">e </text>\n",
       "<text text-anchor=\"middle\" x=\"234.5\" y=\"-58.8\" font-family=\"Times,serif\" font-size=\"14.00\"> data -6.0000 </text>\n",
       "<text text-anchor=\"middle\" x=\"234.5\" y=\"-43.8\" font-family=\"Times,serif\" font-size=\"14.00\"> grad -2.0000</text>\n",
       "</a>\n",
       "</g>\n",
       "</g>\n",
       "<!-- 4521406768&#45;&gt;PL4521406048 -->\n",
       "<g id=\"edge8\" class=\"edge\">\n",
       "<title>4521406768-&gt;PL4521406048</title>\n",
       "<path fill=\"none\" stroke=\"black\" d=\"M280.85,-79.38C290.06,-82.81 299.35,-86.28 307.32,-89.24\"/>\n",
       "<polygon fill=\"black\" stroke=\"black\" points=\"305.85,-92.43 316.45,-92.64 308.3,-85.87 305.85,-92.43\"/>\n",
       "</g>\n",
       "<!-- MU4521406768 -->\n",
       "<g id=\"node8\" class=\"node\">\n",
       "<title>MU4521406768</title>\n",
       "<g id=\"a_node8\"><a xlink:title=\"*\">\n",
       "<path fill=\"none\" stroke=\"black\" d=\"M143.33,-74C143.33,-74 135.67,-74 135.67,-74 131.83,-74 128,-70.17 128,-66.33 128,-66.33 128,-58.67 128,-58.67 128,-54.83 131.83,-51 135.67,-51 135.67,-51 143.33,-51 143.33,-51 147.17,-51 151,-54.83 151,-58.67 151,-58.67 151,-66.33 151,-66.33 151,-70.17 147.17,-74 143.33,-74\"/>\n",
       "<text text-anchor=\"middle\" x=\"139.5\" y=\"-58.8\" font-family=\"Times,serif\" font-size=\"14.00\">*</text>\n",
       "</a>\n",
       "</g>\n",
       "</g>\n",
       "<!-- MU4521406768&#45;&gt;4521406768 -->\n",
       "<g id=\"edge3\" class=\"edge\">\n",
       "<title>MU4521406768-&gt;4521406768</title>\n",
       "<path fill=\"none\" stroke=\"black\" d=\"M151.17,-62.5C157.89,-62.5 167.16,-62.5 177.05,-62.5\"/>\n",
       "<polygon fill=\"black\" stroke=\"black\" points=\"176.87,-66 186.87,-62.5 176.87,-59 176.87,-66\"/>\n",
       "</g>\n",
       "<!-- 4521405232 -->\n",
       "<g id=\"node9\" class=\"node\">\n",
       "<title>4521405232</title>\n",
       "<g id=\"a_node9\"><a xlink:title=\"a \n",
       " data 2.0000 \n",
       " grad 6.0000\">\n",
       "<path fill=\"none\" stroke=\"black\" d=\"M78,-125C78,-125 14,-125 14,-125 8,-125 2,-119 2,-113 2,-113 2,-84 2,-84 2,-78 8,-72 14,-72 14,-72 78,-72 78,-72 84,-72 90,-78 90,-84 90,-84 90,-113 90,-113 90,-119 84,-125 78,-125\"/>\n",
       "<text text-anchor=\"middle\" x=\"46\" y=\"-109.8\" font-family=\"Times,serif\" font-size=\"14.00\">a </text>\n",
       "<text text-anchor=\"middle\" x=\"46\" y=\"-94.8\" font-family=\"Times,serif\" font-size=\"14.00\"> data 2.0000 </text>\n",
       "<text text-anchor=\"middle\" x=\"46\" y=\"-79.8\" font-family=\"Times,serif\" font-size=\"14.00\"> grad 6.0000</text>\n",
       "</a>\n",
       "</g>\n",
       "</g>\n",
       "<!-- 4521405232&#45;&gt;MU4521406768 -->\n",
       "<g id=\"edge6\" class=\"edge\">\n",
       "<title>4521405232-&gt;MU4521406768</title>\n",
       "<path fill=\"none\" stroke=\"black\" d=\"M90.34,-81.45C99.65,-77.79 109.09,-74.07 117.12,-70.91\"/>\n",
       "<polygon fill=\"black\" stroke=\"black\" points=\"118.26,-74.22 126.29,-67.31 115.7,-67.71 118.26,-74.22\"/>\n",
       "</g>\n",
       "<!-- 4521406960 -->\n",
       "<g id=\"node10\" class=\"node\">\n",
       "<title>4521406960</title>\n",
       "<g id=\"a_node10\"><a xlink:title=\"b \n",
       " data -3.0000 \n",
       " grad -4.0000\">\n",
       "<path fill=\"none\" stroke=\"black\" d=\"M80,-54C80,-54 12,-54 12,-54 6,-54 0,-48 0,-42 0,-42 0,-13 0,-13 0,-7 6,-1 12,-1 12,-1 80,-1 80,-1 86,-1 92,-7 92,-13 92,-13 92,-42 92,-42 92,-48 86,-54 80,-54\"/>\n",
       "<text text-anchor=\"middle\" x=\"46\" y=\"-38.8\" font-family=\"Times,serif\" font-size=\"14.00\">b </text>\n",
       "<text text-anchor=\"middle\" x=\"46\" y=\"-23.8\" font-family=\"Times,serif\" font-size=\"14.00\"> data -3.0000 </text>\n",
       "<text text-anchor=\"middle\" x=\"46\" y=\"-8.8\" font-family=\"Times,serif\" font-size=\"14.00\"> grad -4.0000</text>\n",
       "</a>\n",
       "</g>\n",
       "</g>\n",
       "<!-- 4521406960&#45;&gt;MU4521406768 -->\n",
       "<g id=\"edge9\" class=\"edge\">\n",
       "<title>4521406960-&gt;MU4521406768</title>\n",
       "<path fill=\"none\" stroke=\"black\" d=\"M92.48,-44.9C100.97,-48.15 109.48,-51.4 116.83,-54.21\"/>\n",
       "<polygon fill=\"black\" stroke=\"black\" points=\"115.56,-57.47 126.15,-57.78 118.06,-50.94 115.56,-57.47\"/>\n",
       "</g>\n",
       "</g>\n",
       "</svg>"
      ],
      "text/plain": [
       "<IPython.core.display.SVG object>"
      ]
     },
     "metadata": {},
     "output_type": "display_data"
    }
   ],
   "source": [
    "view_dot(L)"
   ]
  },
  {
   "cell_type": "markdown",
   "metadata": {},
   "source": [
    "## Make L increase\n",
    "\n",
    "Next let's nudge of the leaf nodes that we control so as to make $L$ increase.\n",
    "\n",
    "How? Well we observe that:\n",
    "\n",
    "* If the value of a leaf node that we control is positive and the gradient is positive then nudging the value of such a leaf node up will make the loss go up.\n",
    "    * Nudging such a value by an amount which is $0.01$ times the gradient, will make us go from a positive value to a more positive value (thus nudging the value up) and this will make the loss go up.\n",
    "    * This is the case for $a$ it's value is $2$ and it's gradient is $6$\n",
    "* If the value of a leaf node that we control is positive and the gradient is negative then that means that nudging the value of such a leaf node up will make the loss go down.\n",
    "    * Nudging such a value by an amount which is $0.01$ times the gradient, will make us go from a positive value to a less positive value (thus nudging the value down) and this will make the loss go up.\n",
    "    * This is the case for $c$ it's value is $10$ and it's gradient is $-2$\n",
    "* If the value of a leaf node that we control is negative and the gradient is positive then that nudging the value of such a leaf node up will make the loss go up.\n",
    "    * Nudging such a value by an amount which is $0.01$ times the gradient, will make us go from a negative value to a less negative value (thus nudging the value up) and this will make the loss go up.\n",
    "    * This is the case for $f$ it's value is $-2$ and it's gradient is $4$\n",
    "* If the value of a leaf node that we control is negative and the gradient is negative then that nudging the value of such a leaf node up will make the loss go down.\n",
    "    * Nudging such a value by an amount which is $0.01$ times the gradient, will make us go from a negative value to a more negative value (thus nudging the value down) and this will make the loss go up. \n",
    "    * This is the case for $b$ it's value is $-3$ and it's gradient is $-4$\n",
    "\n",
    "TL;DR\n",
    "\n",
    "* The strategy to increase the loss, in all cases, is to nudge the value by some small number times the gradient.\n",
    "* Conversely to decrease the lose we need to nudge the value by some small number times the negative of the gradient."
   ]
  },
  {
   "cell_type": "code",
   "execution_count": null,
   "metadata": {},
   "outputs": [
    {
     "data": {
      "text/plain": [
       "Value(data=-8.0)"
      ]
     },
     "execution_count": null,
     "metadata": {},
     "output_type": "execute_result"
    }
   ],
   "source": [
    "# forward pass\n",
    "a,b,c = Value(2.,label='a'),Value(-3.,label='b'),Value(10.,label='c')\n",
    "e = a*b; e.label = 'e'\n",
    "d = e + c; d.label = 'd'\n",
    "f = Value(-2); f.label='f'\n",
    "L = d*f; L.label = 'L'\n",
    "L"
   ]
  },
  {
   "cell_type": "code",
   "execution_count": null,
   "metadata": {},
   "outputs": [
    {
     "data": {
      "text/plain": [
       "Value(data=-7.286496)"
      ]
     },
     "execution_count": null,
     "metadata": {},
     "output_type": "execute_result"
    }
   ],
   "source": [
    "#|hide\n",
    "\n",
    "# manual gradients\n",
    "L.grad=1\n",
    "f.grad=d.data\n",
    "d.grad=f.data\n",
    "c.grad = d.grad\n",
    "e.grad = d.grad\n",
    "b.grad=e.grad * a.data\n",
    "a.grad=e.grad * b.data\n",
    "\n",
    "# nudge leaf nodes that we control\n",
    "a.data += 0.01 * a.grad\n",
    "b.data += 0.01 * b.grad\n",
    "c.data += 0.01 * c.grad\n",
    "f.data += 0.01 * f.grad\n",
    "\n",
    "# forward pass to evaluate L\n",
    "e = a*b\n",
    "d = e + c\n",
    "L = d*f\n",
    "L"
   ]
  },
  {
   "cell_type": "markdown",
   "metadata": {},
   "source": [
    "Hooray, $L$ increased from $-8$ to $-7.28$!"
   ]
  },
  {
   "cell_type": "code",
   "execution_count": null,
   "metadata": {},
   "outputs": [],
   "source": [
    "#| hide\n",
    "import nbdev; nbdev.nbdev_export()"
   ]
  }
 ],
 "metadata": {
  "kernelspec": {
   "display_name": "python3",
   "language": "python",
   "name": "python3"
  }
 },
 "nbformat": 4,
 "nbformat_minor": 4
}
